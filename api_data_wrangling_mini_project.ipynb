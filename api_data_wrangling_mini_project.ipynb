{
 "cells": [
  {
   "cell_type": "markdown",
   "metadata": {},
   "source": [
    "This exercise will require you to pull some data from https://data.nasdaq.com/ (formerly Quandl API).\n"
   ]
  },
  {
   "cell_type": "markdown",
   "metadata": {},
   "source": [
    "As a first step, you will need to register a free account on the https://data.nasdaq.com/ website.\n"
   ]
  },
  {
   "cell_type": "markdown",
   "metadata": {},
   "source": [
    "After you register, you will be provided with a unique API key, that you should store:\n",
    "\n",
    "_Note_: Use a `.env` file and put your key in there and `python-dotenv` to access it in this notebook.\n",
    "\n",
    "The code below uses a key that was used when generating this project but has since been deleted. Never submit your keys to source control. There is a `.env-example` file in this repository to illusrtate what you need. Copy that to a file called `.env` and use your own api key in that `.env` file. Make sure you also have a `.gitignore` file with a line for `.env` added to it.\n",
    "\n",
    "The standard Python gitignore is [here](https://github.com/github/gitignore/blob/master/Python.gitignore) you can just copy that.\n"
   ]
  },
  {
   "cell_type": "code",
   "execution_count": 1,
   "metadata": {},
   "outputs": [],
   "source": [
    "# get api key from your .env file\n",
    "import os\n",
    "from dotenv import load_dotenv\n",
    "\n",
    "load_dotenv()\n",
    "API_KEY = os.getenv(\"NASDAQ_API_KEY\")\n",
    "\n",
    "# print(API_KEY)"
   ]
  },
  {
   "cell_type": "markdown",
   "metadata": {},
   "source": [
    "Nasdaq Data has a large number of data sources, but, unfortunately, most of them require a Premium subscription. Still, there are also a good number of free datasets.\n"
   ]
  },
  {
   "cell_type": "markdown",
   "metadata": {},
   "source": [
    "For this mini project, we will focus on equities data from the Frankfurt Stock Exhange (FSE), which is available for free. We'll try and analyze the stock prices of a company called Carl Zeiss Meditec, which manufactures tools for eye examinations, as well as medical lasers for laser eye surgery: https://www.zeiss.com/meditec/int/home.html. The company is listed under the stock ticker AFX_X.\n"
   ]
  },
  {
   "cell_type": "markdown",
   "metadata": {},
   "source": [
    "You can find the detailed Nasdaq Data API instructions here: https://docs.data.nasdaq.com/docs/in-depth-usage\n"
   ]
  },
  {
   "cell_type": "markdown",
   "metadata": {},
   "source": [
    "While there is a dedicated Python package for connecting to the Nasdaq API, we would prefer that you use the _requests_ package, which can be easily downloaded using _pip_ or _conda_. You can find the documentation for the package here: http://docs.python-requests.org/en/master/\n"
   ]
  },
  {
   "cell_type": "markdown",
   "metadata": {},
   "source": [
    "Finally, apart from the _requests_ package, you are encouraged to not use any third party Python packages, such as _pandas_, and instead focus on what's available in the Python Standard Library (the _collections_ module might come in handy: https://pymotw.com/3/collections/).\n",
    "Also, since you won't have access to DataFrames, you are encouraged to us Python's native data structures - preferably dictionaries, though some questions can also be answered using lists.\n",
    "You can read more on these data structures here: https://docs.python.org/3/tutorial/datastructures.html\n"
   ]
  },
  {
   "cell_type": "markdown",
   "metadata": {},
   "source": [
    "Keep in mind that the JSON responses you will be getting from the API map almost one-to-one to Python's dictionaries. Unfortunately, they can be very nested, so make sure you read up on indexing dictionaries in the documentation provided above.\n"
   ]
  },
  {
   "cell_type": "code",
   "execution_count": 2,
   "metadata": {},
   "outputs": [],
   "source": [
    "# First, import the relevant modules\n",
    "import requests\n",
    "import json\n",
    "import statistics as stats\n",
    "\n",
    "url = f\"https://data.nasdaq.com/api/v3/datasets/FSE/AFX_X/data.json\"\n",
    "\n",
    "\n",
    "api_param = {\"api_key\": API_KEY}\n",
    "\n",
    "req = requests.get(url=url, params=api_param)\n",
    "data = req.json()\n"
   ]
  },
  {
   "cell_type": "markdown",
   "metadata": {},
   "source": [
    "Note: API's can change a bit with each version, for this exercise it is reccomended to use the nasdaq api at `https://data.nasdaq.com/api/v3/`. This is the same api as what used to be quandl so `https://www.quandl.com/api/v3/` should work too.\n",
    "\n",
    "Hint: We are looking for the `AFX_X` data on the `datasets/FSE/` dataset.\n"
   ]
  },
  {
   "cell_type": "code",
   "execution_count": 3,
   "metadata": {},
   "outputs": [],
   "source": [
    "# Now, call the Nasdaq API and pull out a small sample of the data (only one day) to get a glimpse\n",
    "# into the JSON structure that will be returned\n",
    "\n",
    "\n",
    "url = f\"https://data.nasdaq.com/api/v3/datasets/FSE/AFX_X/data.json\"\n",
    "one_row_params = {\"rows\": 1, \"api_key\": API_KEY}\n",
    "\n",
    "req = requests.get(url=url, params=one_row_params)\n",
    "data = req.json()"
   ]
  },
  {
   "cell_type": "code",
   "execution_count": 4,
   "metadata": {},
   "outputs": [
    {
     "data": {
      "text/plain": [
       "{'dataset_data': {'limit': 1,\n",
       "  'transform': None,\n",
       "  'column_index': None,\n",
       "  'column_names': ['Date',\n",
       "   'Open',\n",
       "   'High',\n",
       "   'Low',\n",
       "   'Close',\n",
       "   'Change',\n",
       "   'Traded Volume',\n",
       "   'Turnover',\n",
       "   'Last Price of the Day',\n",
       "   'Daily Traded Units',\n",
       "   'Daily Turnover'],\n",
       "  'start_date': '2000-06-07',\n",
       "  'end_date': '2020-12-01',\n",
       "  'frequency': 'daily',\n",
       "  'data': [['2020-12-01',\n",
       "    112.2,\n",
       "    112.2,\n",
       "    111.5,\n",
       "    112.0,\n",
       "    None,\n",
       "    51.0,\n",
       "    5703.0,\n",
       "    None,\n",
       "    None,\n",
       "    None]],\n",
       "  'collapse': None,\n",
       "  'order': None}}"
      ]
     },
     "execution_count": 4,
     "metadata": {},
     "output_type": "execute_result"
    }
   ],
   "source": [
    "# Inspect the JSON structure of the object you created, and take note of how nested it is,\n",
    "# as well as the overall structure\n",
    "data\n"
   ]
  },
  {
   "cell_type": "markdown",
   "metadata": {},
   "source": [
    "These are your tasks for this mini project:\n",
    "\n",
    "1. Collect data from the Franfurt Stock Exchange, for the ticker AFX_X, for the whole year 2017 (keep in mind that the date format is YYYY-MM-DD).\n",
    "2. Convert the returned JSON object into a Python dictionary.\n",
    "3. Calculate what the highest and lowest opening prices were for the stock in this period.\n",
    "4. What was the largest change in any one day (based on High and Low price)?\n",
    "5. What was the largest change between any two days (based on Closing Price)?\n",
    "6. What was the average daily trading volume during this year?\n",
    "7. (Optional) What was the median trading volume during this year. (Note: you may need to implement your own function for calculating the median.)\n"
   ]
  },
  {
   "attachments": {},
   "cell_type": "markdown",
   "metadata": {},
   "source": [
    "1. Collect data from the Franfurt Stock Exchange, for the ticker AFX_X, for the whole year 2017 (keep in mind that the date format is YYYY-MM-DD).\n",
    "2. Convert the returned JSON object into a Python dictionary.\n"
   ]
  },
  {
   "cell_type": "code",
   "execution_count": 5,
   "metadata": {},
   "outputs": [
    {
     "name": "stdout",
     "output_type": "stream",
     "text": [
      "limit: None\n",
      "transform: None\n",
      "column_index: None\n",
      "column_names: ['Date', 'Open', 'High', 'Low', 'Close', 'Change', 'Traded Volume', 'Turnover', 'Last Price of the Day', 'Daily Traded Units', 'Daily Turnover']\n",
      "start_date: 2017-01-01\n",
      "end_date: 2017-12-31\n",
      "frequency: daily\n",
      "collapse: None\n",
      "order: None\n"
     ]
    }
   ],
   "source": [
    "url = f\"https://data.nasdaq.com/api/v3/datasets/FSE/AFX_X/data.json\"\n",
    "one_year_params = {\n",
    "    \"start_date\": \"2017-01-01\",\n",
    "    \"end_date\": \"2017-12-31\",\n",
    "    \"limit\": None,\n",
    "    \"api_key\": API_KEY,\n",
    "}\n",
    "\n",
    "req = requests.get(url, params=one_year_params)\n",
    "data = req.json()\n",
    "for k, v in data[\"dataset_data\"].items():\n",
    "    if k != \"data\":\n",
    "        print(f\"{k}: {v}\")"
   ]
  },
  {
   "attachments": {},
   "cell_type": "markdown",
   "metadata": {},
   "source": [
    "3. Calculate what the highest and lowest opening prices were for the stock in this period.\n"
   ]
  },
  {
   "cell_type": "code",
   "execution_count": 6,
   "metadata": {},
   "outputs": [
    {
     "name": "stdout",
     "output_type": "stream",
     "text": [
      "Lowest open value: 34.00\n",
      "Highest open value: 53.11\n"
     ]
    }
   ],
   "source": [
    "nested = data[\"dataset_data\"]\n",
    "headers = nested[\"column_names\"]\n",
    "\n",
    "afx_x_2017 = {}\n",
    "\n",
    "\n",
    "afx_x_2017[\"open\"] = [float(row[1]) if row[1] else -1.0 for row in nested[\"data\"]]\n",
    "\n",
    "lowest_open_value = sorted(filter(lambda x: x > 0, afx_x_2017[\"open\"]))[0]\n",
    "highest_open_value = sorted(afx_x_2017[\"open\"])[-1]\n",
    "print(\n",
    "    f\"Lowest open value: {lowest_open_value:.2f}\\nHighest open value: {highest_open_value:.2f}\"\n",
    ")"
   ]
  },
  {
   "attachments": {},
   "cell_type": "markdown",
   "metadata": {},
   "source": [
    "4. What was the largest change in any one day (based on High and Low price)?\n"
   ]
  },
  {
   "cell_type": "code",
   "execution_count": 7,
   "metadata": {},
   "outputs": [
    {
     "name": "stdout",
     "output_type": "stream",
     "text": [
      "Largest change in any one-day based on High and Low prices: 2.81\n"
     ]
    }
   ],
   "source": [
    "afx_x_2017[\"low\"] = [float(row[3]) for row in nested[\"data\"]]\n",
    "afx_x_2017[\"high\"] = [float(row[2]) for row in nested[\"data\"]]\n",
    "\n",
    "high_low_diff = [\n",
    "    abs(high - low) for (high, low) in zip(afx_x_2017[\"high\"], afx_x_2017[\"low\"])\n",
    "]\n",
    "\n",
    "# largest change in any oneday\n",
    "largest_change_hl_1d = sorted(high_low_diff)[-1]\n",
    "print(\n",
    "    f\"Largest change in any one-day based on High and Low prices: {largest_change_hl_1d:.2f}\"\n",
    ")"
   ]
  },
  {
   "attachments": {},
   "cell_type": "markdown",
   "metadata": {},
   "source": [
    "5. What was the largest change between any two days (based on Closing Price)?\n"
   ]
  },
  {
   "cell_type": "code",
   "execution_count": 8,
   "metadata": {},
   "outputs": [
    {
     "name": "stdout",
     "output_type": "stream",
     "text": [
      "Largest change between any 2 days based on Closing Price: 2.56\n"
     ]
    }
   ],
   "source": [
    "afx_x_2017[\"close\"] = [float(row[4]) for row in nested[\"data\"]]\n",
    "close_values_diff = [\n",
    "    abs(afx_x_2017[\"close\"][i] - afx_x_2017[\"close\"][i - 1])\n",
    "    for i in range(1, len(afx_x_2017[\"close\"]))\n",
    "]\n",
    "max_change_close = max(close_values_diff)\n",
    "print(\n",
    "    f\"Largest change between any 2 days based on Closing Price: {max_change_close:.2f}\"\n",
    ")"
   ]
  },
  {
   "attachments": {},
   "cell_type": "markdown",
   "metadata": {},
   "source": [
    "6. What was the average daily trading volume during this year?\n",
    "7. (Optional) What was the median trading volume during this year. (Note: you may need to implement your own function for calculating the median.)\n"
   ]
  },
  {
   "cell_type": "code",
   "execution_count": 9,
   "metadata": {},
   "outputs": [
    {
     "name": "stdout",
     "output_type": "stream",
     "text": [
      "Average daily trading volume during this year: 89124 \n",
      "Median daily trading volume during this year: 76286 \n"
     ]
    }
   ],
   "source": [
    "afx_x_2017[\"traded_volume\"] = [int(row[6]) for row in nested[\"data\"]]\n",
    "avg_trading_volume = stats.mean(afx_x_2017[\"traded_volume\"])\n",
    "med_trading_volume = stats.median(afx_x_2017[\"traded_volume\"])\n",
    "print(f\"Average daily trading volume during this year: {avg_trading_volume:.0f} \")\n",
    "print(f\"Median daily trading volume during this year: {med_trading_volume:.0f} \")"
   ]
  },
  {
   "cell_type": "code",
   "execution_count": 10,
   "metadata": {},
   "outputs": [],
   "source": [
    "def get_median(a_lst):\n",
    "    lst = a_lst[:]\n",
    "    n = len(lst)\n",
    "    lst.sort()\n",
    "    if n % 2:\n",
    "        return lst[(n - 1) // 2]\n",
    "    else:\n",
    "        return (lst[n // 2] + lst[n // 2 - 1]) / 2\n"
   ]
  },
  {
   "cell_type": "code",
   "execution_count": 11,
   "metadata": {},
   "outputs": [
    {
     "name": "stdout",
     "output_type": "stream",
     "text": [
      "Median daily trading volume during this year: 76286 \n"
     ]
    }
   ],
   "source": [
    "my_med_trading_volume = get_median(afx_x_2017[\"traded_volume\"])\n",
    "\n",
    "print(f\"Median daily trading volume during this year: {med_trading_volume:.0f} \")"
   ]
  },
  {
   "cell_type": "code",
   "execution_count": null,
   "metadata": {},
   "outputs": [],
   "source": []
  }
 ],
 "metadata": {
  "interpreter": {
   "hash": "7635eb1b9d0fe97add78a7368b6b431c09bb8ad5c42e437d64abdd99821c31ae"
  },
  "kernelspec": {
   "display_name": "Python 3.8.1 64-bit ('dsc_v5_solutions-7Q1D_Dt-': venv)",
   "name": "python3"
  },
  "language_info": {
   "codemirror_mode": {
    "name": "ipython",
    "version": 3
   },
   "file_extension": ".py",
   "mimetype": "text/x-python",
   "name": "python",
   "nbconvert_exporter": "python",
   "pygments_lexer": "ipython3",
   "version": "3.9.16"
  }
 },
 "nbformat": 4,
 "nbformat_minor": 4
}
