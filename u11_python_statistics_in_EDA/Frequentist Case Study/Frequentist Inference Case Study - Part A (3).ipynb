{
 "cells": [
  {
   "attachments": {},
   "cell_type": "markdown",
   "metadata": {},
   "source": [
    "# Frequentist Inference Case Study - Part A\n"
   ]
  },
  {
   "attachments": {},
   "cell_type": "markdown",
   "metadata": {},
   "source": [
    "## 1. Learning objectives\n"
   ]
  },
  {
   "attachments": {},
   "cell_type": "markdown",
   "metadata": {},
   "source": [
    "Welcome to part A of the Frequentist inference case study! The purpose of this case study is to help you apply the concepts associated with Frequentist inference in Python. Frequentist inference is the process of deriving conclusions about an underlying distribution via the observation of data. In particular, you'll practice writing Python code to apply the following statistical concepts:\n",
    "\n",
    "- the _z_-statistic\n",
    "- the _t_-statistic\n",
    "- the difference and relationship between the two\n",
    "- the Central Limit Theorem, including its assumptions and consequences\n",
    "- how to estimate the population mean and standard deviation from a sample\n",
    "- the concept of a sampling distribution of a test statistic, particularly for the mean\n",
    "- how to combine these concepts to calculate a confidence interval\n"
   ]
  },
  {
   "attachments": {},
   "cell_type": "markdown",
   "metadata": {},
   "source": [
    "## Prerequisites\n"
   ]
  },
  {
   "attachments": {},
   "cell_type": "markdown",
   "metadata": {},
   "source": [
    "To be able to complete this notebook, you are expected to have a basic understanding of:\n",
    "\n",
    "- what a random variable is (p.400 of Professor Spiegelhalter's _The Art of Statistics, hereinafter AoS_)\n",
    "- what a population, and a population distribution, are (p. 397 of _AoS_)\n",
    "- a high-level sense of what the normal distribution is (p. 394 of _AoS_)\n",
    "- what the t-statistic is (p. 275 of _AoS_)\n",
    "\n",
    "Happily, these should all be concepts with which you are reasonably familiar after having read ten chapters of Professor Spiegelhalter's book, _The Art of Statistics_.\n",
    "\n",
    "We'll try to relate the concepts in this case study back to page numbers in _The Art of Statistics_ so that you can focus on the Python aspects of this case study. The second part (part B) of this case study will involve another, more real-world application of these tools.\n"
   ]
  },
  {
   "attachments": {},
   "cell_type": "markdown",
   "metadata": {},
   "source": [
    "For this notebook, we will use data sampled from a known normal distribution. This allows us to compare our results with theoretical expectations.\n"
   ]
  },
  {
   "attachments": {},
   "cell_type": "markdown",
   "metadata": {},
   "source": [
    "## 2. An introduction to sampling from the normal distribution\n"
   ]
  },
  {
   "attachments": {},
   "cell_type": "markdown",
   "metadata": {},
   "source": [
    "First, let's explore the ways we can generate the normal distribution. While there's a fair amount of interest in [sklearn](https://scikit-learn.org/stable/) within the machine learning community, you're likely to have heard of [scipy](https://docs.scipy.org/doc/scipy-0.15.1/reference/index.html) if you're coming from the sciences. For this assignment, you'll use [scipy.stats](https://docs.scipy.org/doc/scipy-0.15.1/reference/tutorial/stats.html) to complete your work.\n",
    "\n",
    "This assignment will require some digging around and getting your hands dirty (your learning is maximized that way)! You should have the research skills and the tenacity to do these tasks independently, but if you struggle, reach out to your immediate community and your mentor for help.\n"
   ]
  },
  {
   "cell_type": "code",
   "execution_count": 1,
   "metadata": {},
   "outputs": [
    {
     "name": "stderr",
     "output_type": "stream",
     "text": [
      "c:\\Users\\jonnr\\anaconda3\\envs\\finance2\\lib\\site-packages\\scipy\\__init__.py:146: UserWarning: A NumPy version >=1.16.5 and <1.23.0 is required for this version of SciPy (detected version 1.23.5\n",
      "  warnings.warn(f\"A NumPy version >={np_minversion} and <{np_maxversion}\"\n"
     ]
    }
   ],
   "source": [
    "import math\n",
    "import numpy as np\n",
    "from scipy.stats import norm\n",
    "from scipy.stats import t\n",
    "import pandas as pd\n",
    "from numpy.random import seed\n",
    "import matplotlib.pyplot as plt\n",
    "import seaborn as sns\n",
    "\n",
    "\n",
    "from numba import njit"
   ]
  },
  {
   "cell_type": "code",
   "execution_count": 2,
   "metadata": {},
   "outputs": [],
   "source": [
    "plt.rcParams[\"axes.labelcolor\"] = \"#424242\"\n",
    "plt.rcParams[\"axes.titlecolor\"] = \"#424242\"\n",
    "plt.rcParams[\"xtick.labelcolor\"] = \"#424242\"\n",
    "plt.rcParams[\"ytick.labelcolor\"] = \"#424242\"\n",
    "plt.rcParams[\"axes.spines.top\"] = False\n",
    "plt.rcParams[\"axes.spines.right\"] = False\n",
    "plt.rcParams[\"axes.titlepad\"] = 10\n"
   ]
  },
  {
   "attachments": {},
   "cell_type": "markdown",
   "metadata": {},
   "source": [
    "**Q1:** Call up the documentation for the `norm` function imported above. (Hint: that documentation is [here](https://docs.scipy.org/doc/scipy/reference/generated/scipy.stats.norm.html)). What is the second listed method?\n"
   ]
  },
  {
   "cell_type": "code",
   "execution_count": 3,
   "metadata": {},
   "outputs": [],
   "source": [
    "# norm function documentation\n",
    "# print(norm.__doc__)\n"
   ]
  },
  {
   "attachments": {},
   "cell_type": "markdown",
   "metadata": {},
   "source": [
    "**A:**\n",
    "\n",
    "The 2nd listed method is `.pdf(x, loc=0, scale=1)`: Probability density function\n"
   ]
  },
  {
   "attachments": {},
   "cell_type": "markdown",
   "metadata": {},
   "source": [
    "**Q2:** Use the method that generates random variates to draw five samples from the standard normal distribution.\n"
   ]
  },
  {
   "attachments": {},
   "cell_type": "markdown",
   "metadata": {},
   "source": [
    "**A:**\n"
   ]
  },
  {
   "cell_type": "code",
   "execution_count": 4,
   "metadata": {},
   "outputs": [
    {
     "name": "stdout",
     "output_type": "stream",
     "text": [
      "r=array([-0.84800948,  1.30590636,  0.92420797,  0.6404118 , -1.05473698])\n"
     ]
    }
   ],
   "source": [
    "seed(47)\n",
    "# draw five samples here\n",
    "r = norm.rvs(size=5)\n",
    "print(f\"{r=}\")\n"
   ]
  },
  {
   "attachments": {},
   "cell_type": "markdown",
   "metadata": {},
   "source": [
    "**Q3:** What is the mean of this sample? Is it exactly equal to the value you expected? Hint: the sample was drawn from the standard normal distribution. If you want a reminder of the properties of this distribution, check out p. 85 of _AoS_.\n"
   ]
  },
  {
   "attachments": {},
   "cell_type": "markdown",
   "metadata": {},
   "source": [
    "**A:**\n"
   ]
  },
  {
   "cell_type": "code",
   "execution_count": 5,
   "metadata": {},
   "outputs": [
    {
     "name": "stdout",
     "output_type": "stream",
     "text": [
      "Mean: 0.1936\n",
      "Yes, I expected the mean to be slightly off from 0.0 as the sample size is only 5.\n"
     ]
    }
   ],
   "source": [
    "# Calculate and print the mean here, hint: use np.mean()\n",
    "r_mean = np.mean(r)\n",
    "print(f\"Mean: {r_mean:.4f}\")\n",
    "\n",
    "print(\n",
    "    \"Yes, I expected the mean to be slightly off from 0.0 as the sample size is only 5.\"\n",
    ")"
   ]
  },
  {
   "attachments": {},
   "cell_type": "markdown",
   "metadata": {},
   "source": [
    "**Q4:** What is the standard deviation of these numbers? Calculate this manually here as $\\sqrt{\\frac{\\sum_i(x_i - \\bar{x})^2}{n}}$ (This is just the definition of **standard deviation** given by Professor Spiegelhalter on p.403 of _AoS_). Hint: np.sqrt() and np.sum() will be useful here and remember that numPy supports [broadcasting](https://docs.scipy.org/doc/numpy/user/basics.broadcasting.html).\n"
   ]
  },
  {
   "attachments": {},
   "cell_type": "markdown",
   "metadata": {},
   "source": [
    "**A:**\n"
   ]
  },
  {
   "cell_type": "code",
   "execution_count": 6,
   "metadata": {},
   "outputs": [
    {
     "name": "stdout",
     "output_type": "stream",
     "text": [
      "Standard deviation: 0.9606195639478641\n"
     ]
    }
   ],
   "source": [
    "r_std = np.sqrt(np.sum((r - np.mean(r)) ** 2) / np.size(r))\n",
    "print(f\"Standard deviation: {r_std}\")\n",
    "\n",
    "# np.std(r)"
   ]
  },
  {
   "attachments": {},
   "cell_type": "markdown",
   "metadata": {},
   "source": [
    "Here we have calculated the actual standard deviation of a small data set (of size 5). But in this case, this small data set is actually a sample from our larger (infinite) population. In this case, the population is infinite because we could keep drawing our normal random variates until our computers die!\n",
    "\n",
    "In general, the sample mean we calculate will not be equal to the population mean (as we saw above). A consequence of this is that the sum of squares of the deviations from the _population_ mean will be bigger than the sum of squares of the deviations from the _sample_ mean. In other words, the sum of squares of the deviations from the _sample_ mean is too small to give an unbiased estimate of the _population_ variance. An example of this effect is given [here](https://en.wikipedia.org/wiki/Bessel%27s_correction#Source_of_bias). Scaling our estimate of the variance by the factor $n/(n-1)$ gives an unbiased estimator of the population variance. This factor is known as [Bessel's correction](https://en.wikipedia.org/wiki/Bessel%27s_correction). The consequence of this is that the $n$ in the denominator is replaced by $n-1$.\n",
    "\n",
    "You can see Bessel's correction reflected in Professor Spiegelhalter's definition of **variance** on p. 405 of _AoS_.\n",
    "\n",
    "**Q5:** If all we had to go on was our five samples, what would be our best estimate of the population standard deviation? Use Bessel's correction ($n-1$ in the denominator), thus $\\sqrt{\\frac{\\sum_i(x_i - \\bar{x})^2}{n-1}}$.\n"
   ]
  },
  {
   "attachments": {},
   "cell_type": "markdown",
   "metadata": {},
   "source": [
    "**A:**\n"
   ]
  },
  {
   "cell_type": "code",
   "execution_count": 7,
   "metadata": {},
   "outputs": [
    {
     "name": "stdout",
     "output_type": "stream",
     "text": [
      "Corrected standard deviation: 1.0740053227518152\n"
     ]
    }
   ],
   "source": [
    "r_std_corrected = np.sqrt(np.sum(np.square(r - np.mean(r))) / (np.size(r) - 1))\n",
    "print(f\"Corrected standard deviation: {r_std_corrected}\")"
   ]
  },
  {
   "attachments": {},
   "cell_type": "markdown",
   "metadata": {},
   "source": [
    "**Q6:** Now use numpy's std function to calculate the standard deviation of our random samples. Which of the above standard deviations did it return?\n"
   ]
  },
  {
   "attachments": {},
   "cell_type": "markdown",
   "metadata": {},
   "source": [
    "**A:**\n"
   ]
  },
  {
   "cell_type": "code",
   "execution_count": 8,
   "metadata": {},
   "outputs": [
    {
     "name": "stdout",
     "output_type": "stream",
     "text": [
      "0.9606195639478641\n",
      "It returned the first calculated value.\n"
     ]
    }
   ],
   "source": [
    "print(np.std(r))\n",
    "print(\"It returned the first calculated value.\")"
   ]
  },
  {
   "attachments": {},
   "cell_type": "markdown",
   "metadata": {},
   "source": [
    "**Q7:** Consult the documentation for np.std() to see how to apply the correction for estimating the population parameter and verify this produces the expected result.\n"
   ]
  },
  {
   "attachments": {},
   "cell_type": "markdown",
   "metadata": {},
   "source": [
    "**A:**\n"
   ]
  },
  {
   "cell_type": "code",
   "execution_count": 9,
   "metadata": {},
   "outputs": [
    {
     "name": "stdout",
     "output_type": "stream",
     "text": [
      "1.0740053227518152\n"
     ]
    }
   ],
   "source": [
    "print(np.std(r, ddof=1))"
   ]
  },
  {
   "attachments": {},
   "cell_type": "markdown",
   "metadata": {},
   "source": [
    "### Summary of section\n"
   ]
  },
  {
   "attachments": {},
   "cell_type": "markdown",
   "metadata": {},
   "source": [
    "In this section, you've been introduced to the scipy.stats package and used it to draw a small sample from the standard normal distribution. You've calculated the average (the mean) of this sample and seen that this is not exactly equal to the expected population parameter (which we know because we're generating the random variates from a specific, known distribution). You've been introduced to two ways of calculating the standard deviation; one uses $n$ in the denominator and the other uses $n-1$ (Bessel's correction). You've also seen which of these calculations np.std() performs by default and how to get it to generate the other.\n"
   ]
  },
  {
   "attachments": {},
   "cell_type": "markdown",
   "metadata": {},
   "source": [
    "You use $n$ as the denominator if you want to calculate the standard deviation of a sequence of numbers. You use $n-1$ if you are using this sequence of numbers to estimate the population parameter. This brings us to some terminology that can be a little confusing.\n",
    "\n",
    "The population parameter is traditionally written as $\\sigma$ and the sample statistic as $s$. Rather unhelpfully, $s$ is also called the sample standard deviation (using $n-1$) whereas the standard deviation of the sample uses $n$. That's right, we have the sample standard deviation and the standard deviation of the sample and they're not the same thing!\n",
    "\n",
    "The sample standard deviation\n",
    "\\begin{equation}\n",
    "s = \\sqrt{\\frac{\\sum_i(x_i - \\bar{x})^2}{n-1}} \\approx \\sigma,\n",
    "\\end{equation}\n",
    "is our best (unbiased) estimate of the population parameter ($\\sigma$).\n",
    "\n",
    "If your dataset _is_ your entire population, you simply want to calculate the population parameter, $\\sigma$, via\n",
    "\\begin{equation}\n",
    "\\sigma = \\sqrt{\\frac{\\sum*i(x_i - \\bar{x})^2}{n}}\n",
    "\\end{equation}\n",
    "as you have complete, full knowledge of your population. In other words, your sample \\_is* your population. It's worth noting that we're dealing with what Professor Spiegehalter describes on p. 92 of _AoS_ as a **metaphorical population**: we have all the data, and we act as if the data-point is taken from a population at random. We can think of this population as an imaginary space of possibilities.\n",
    "\n",
    "If, however, you have sampled _from_ your population, you only have partial knowledge of the state of your population. In this case, the standard deviation of your sample is not an unbiased estimate of the standard deviation of the population, in which case you seek to estimate that population parameter via the sample standard deviation, which uses the $n-1$ denominator.\n"
   ]
  },
  {
   "attachments": {},
   "cell_type": "markdown",
   "metadata": {},
   "source": [
    "Great work so far! Now let's dive deeper.\n"
   ]
  },
  {
   "attachments": {},
   "cell_type": "markdown",
   "metadata": {},
   "source": [
    "## 3. Sampling distributions\n"
   ]
  },
  {
   "attachments": {},
   "cell_type": "markdown",
   "metadata": {},
   "source": [
    "So far we've been dealing with the concept of taking a sample from a population to infer the population parameters. One statistic we calculated for a sample was the mean. As our samples will be expected to vary from one draw to another, so will our sample statistics. If we were to perform repeat draws of size $n$ and calculate the mean of each, we would expect to obtain a distribution of values. This is the sampling distribution of the mean. **The Central Limit Theorem (CLT)** tells us that such a distribution will approach a normal distribution as $n$ increases (the intuitions behind the CLT are covered in full on p. 236 of _AoS_). For the sampling distribution of the mean, the standard deviation of this distribution is given by\n",
    "\n",
    "\\begin{equation}\n",
    "\\sigma_{mean} = \\frac{\\sigma}{\\sqrt n}\n",
    "\\end{equation}\n",
    "\n",
    "where $\\sigma_{mean}$ is the standard deviation of the sampling distribution of the mean and $\\sigma$ is the standard deviation of the population (the population parameter).\n"
   ]
  },
  {
   "attachments": {},
   "cell_type": "markdown",
   "metadata": {},
   "source": [
    "This is important because typically we are dealing with samples from populations and all we know about the population is what we see in the sample. From this sample, we want to make inferences about the population. We may do this, for example, by looking at the histogram of the values and by calculating the mean and standard deviation (as estimates of the population parameters), and so we are intrinsically interested in how these quantities vary across samples.\n",
    "\n",
    "In other words, now that we've taken one sample of size $n$ and made some claims about the general population, what if we were to take another sample of size $n$? Would we get the same result? Would we make the same claims about the general population? This brings us to a fundamental question: _when we make some inference about a population based on our sample, how confident can we be that we've got it 'right'?_\n",
    "\n",
    "We need to think about **estimates and confidence intervals**: those concepts covered in Chapter 7, p. 189, of _AoS_.\n"
   ]
  },
  {
   "attachments": {},
   "cell_type": "markdown",
   "metadata": {},
   "source": [
    "Now, the standard normal distribution (with its variance equal to its standard deviation of one) would not be a great illustration of a key point. Instead, let's imagine we live in a town of 50,000 people and we know the height of everyone in this town. We will have 50,000 numbers that tell us everything about our population. We'll simulate these numbers now and put ourselves in one particular town, called 'town 47', where the population mean height is 172 cm and population standard deviation is 5 cm.\n"
   ]
  },
  {
   "cell_type": "code",
   "execution_count": 10,
   "metadata": {},
   "outputs": [],
   "source": [
    "seed(47)\n",
    "pop_heights = norm.rvs(172, 5, size=50000)"
   ]
  },
  {
   "cell_type": "code",
   "execution_count": 11,
   "metadata": {},
   "outputs": [
    {
     "data": {
      "image/png": "[encoded data removed]",
      "text/plain": [
       "<Figure size 640x480 with 1 Axes>"
      ]
     },
     "metadata": {},
     "output_type": "display_data"
    }
   ],
   "source": [
    "_ = plt.hist(pop_heights, bins=30)\n",
    "_ = plt.xlabel(\"Height (cm)\")\n",
    "_ = plt.ylabel(\"Number of people\")\n",
    "_ = plt.title(\"Distribution of heights in entire town population\")\n",
    "_ = plt.axvline(172, color=\"r\")\n",
    "_ = plt.axvline(172 + 5, color=\"r\", linestyle=\"--\")\n",
    "_ = plt.axvline(172 - 5, color=\"r\", linestyle=\"--\")\n",
    "_ = plt.axvline(172 + 10, color=\"r\", linestyle=\"-.\")\n",
    "_ = plt.axvline(172 - 10, color=\"r\", linestyle=\"-.\")\n"
   ]
  },
  {
   "attachments": {},
   "cell_type": "markdown",
   "metadata": {},
   "source": [
    "Now, 50,000 people is rather a lot to chase after with a tape measure. If all you want to know is the average height of the townsfolk, then can you just go out and measure a sample to get a pretty good estimate of the average height?\n"
   ]
  },
  {
   "cell_type": "code",
   "execution_count": 12,
   "metadata": {},
   "outputs": [],
   "source": [
    "def townsfolk_sampler(n):\n",
    "    return np.random.choice(pop_heights, n)\n"
   ]
  },
  {
   "attachments": {},
   "cell_type": "markdown",
   "metadata": {},
   "source": [
    "Let's say you go out one day and randomly sample 10 people to measure.\n"
   ]
  },
  {
   "cell_type": "code",
   "execution_count": 13,
   "metadata": {},
   "outputs": [
    {
     "data": {
      "text/plain": [
       "array([179.04949004, 168.54189384, 181.71974048, 176.56433733,\n",
       "       165.91968052, 170.65629646, 179.37664509, 166.40103988,\n",
       "       177.15105034, 169.41097044])"
      ]
     },
     "execution_count": 13,
     "metadata": {},
     "output_type": "execute_result"
    }
   ],
   "source": [
    "seed(47)\n",
    "daily_sample1 = townsfolk_sampler(10)\n",
    "daily_sample1"
   ]
  },
  {
   "cell_type": "code",
   "execution_count": 14,
   "metadata": {},
   "outputs": [
    {
     "data": {
      "image/png": "[encoded data removed]",
      "text/plain": [
       "<Figure size 640x480 with 1 Axes>"
      ]
     },
     "metadata": {},
     "output_type": "display_data"
    }
   ],
   "source": [
    "_ = plt.hist(daily_sample1, bins=10)\n",
    "_ = plt.xlabel(\"Height (cm)\")\n",
    "_ = plt.ylabel(\"Number of people\")\n",
    "_ = plt.title(\"Distribution of heights in sample size 10\")\n"
   ]
  },
  {
   "attachments": {},
   "cell_type": "markdown",
   "metadata": {},
   "source": [
    "The sample distribution doesn't resemble what we take the population distribution to be. What do we get for the mean?\n"
   ]
  },
  {
   "cell_type": "code",
   "execution_count": 15,
   "metadata": {},
   "outputs": [
    {
     "data": {
      "text/plain": [
       "173.47911444163503"
      ]
     },
     "execution_count": 15,
     "metadata": {},
     "output_type": "execute_result"
    }
   ],
   "source": [
    "np.mean(daily_sample1)"
   ]
  },
  {
   "attachments": {},
   "cell_type": "markdown",
   "metadata": {},
   "source": [
    "And if we went out and repeated this experiment?\n"
   ]
  },
  {
   "cell_type": "code",
   "execution_count": 16,
   "metadata": {},
   "outputs": [],
   "source": [
    "daily_sample2 = townsfolk_sampler(10)"
   ]
  },
  {
   "cell_type": "code",
   "execution_count": 17,
   "metadata": {},
   "outputs": [
    {
     "data": {
      "text/plain": [
       "173.7317666636263"
      ]
     },
     "execution_count": 17,
     "metadata": {},
     "output_type": "execute_result"
    }
   ],
   "source": [
    "np.mean(daily_sample2)"
   ]
  },
  {
   "attachments": {},
   "cell_type": "markdown",
   "metadata": {},
   "source": [
    "**Q8:** Simulate performing this random trial every day for a year, calculating the mean of each daily sample of 10, and plot the resultant sampling distribution of the mean.\n"
   ]
  },
  {
   "attachments": {},
   "cell_type": "markdown",
   "metadata": {},
   "source": [
    "**A:**\n"
   ]
  },
  {
   "cell_type": "code",
   "execution_count": 18,
   "metadata": {},
   "outputs": [],
   "source": [
    "daily_means = np.zeros(365)"
   ]
  },
  {
   "cell_type": "code",
   "execution_count": 19,
   "metadata": {},
   "outputs": [],
   "source": [
    "seed(47)\n",
    "# take your samples here\n",
    "\n",
    "for i in np.arange(365):\n",
    "    daily_means[i] = np.mean(townsfolk_sampler(10))"
   ]
  },
  {
   "cell_type": "code",
   "execution_count": 20,
   "metadata": {},
   "outputs": [
    {
     "data": {
      "image/png": "[encoded data removed]",
      "text/plain": [
       "<Figure size 640x480 with 1 Axes>"
      ]
     },
     "metadata": {},
     "output_type": "display_data"
    }
   ],
   "source": [
    "_ = plt.hist(daily_means)\n",
    "_ = plt.ylabel(\"Count\")\n",
    "_ = plt.xlabel(\"Mean height (cm)\")\n",
    "_ = plt.title(\"Sampling distribution for 1 year (sample size=10)\")\n",
    "plt.show()\n"
   ]
  },
  {
   "attachments": {},
   "cell_type": "markdown",
   "metadata": {},
   "source": [
    "The above is the distribution of the means of samples of size 10 taken from our population. The Central Limit Theorem tells us the expected mean of this distribution will be equal to the population mean, and standard deviation will be $\\sigma / \\sqrt n$, which, in this case, should be approximately 1.58.\n"
   ]
  },
  {
   "attachments": {},
   "cell_type": "markdown",
   "metadata": {},
   "source": [
    "**Q9:** Verify the above results from the CLT.\n"
   ]
  },
  {
   "attachments": {},
   "cell_type": "markdown",
   "metadata": {},
   "source": [
    "**A:**\n"
   ]
  },
  {
   "cell_type": "code",
   "execution_count": 21,
   "metadata": {},
   "outputs": [
    {
     "name": "stdout",
     "output_type": "stream",
     "text": [
      "Expected mean: 171.8660\n"
     ]
    }
   ],
   "source": [
    "exp_mean = np.mean(daily_means)\n",
    "print(f\"Expected mean: {exp_mean:.4f}\")"
   ]
  },
  {
   "cell_type": "code",
   "execution_count": 22,
   "metadata": {},
   "outputs": [
    {
     "name": "stdout",
     "output_type": "stream",
     "text": [
      "Standard deviation of daily means: 1.5756704135286475\n",
      "Within 0.1 relative tolerance: True\n"
     ]
    }
   ],
   "source": [
    "daily_mean_std_dev = np.std(daily_means)\n",
    "print(f\"Standard deviation of daily means: {daily_mean_std_dev}\")\n",
    "print(\n",
    "    f\"Within 0.1 relative tolerance: \\\n",
    "{np.isclose([daily_mean_std_dev], [1.58], rtol=0.01)[0]}\"\n",
    ")\n",
    "# print(np.isclose([daily_mean_std_dev], [1.58], rtol=0.01))"
   ]
  },
  {
   "attachments": {},
   "cell_type": "markdown",
   "metadata": {},
   "source": [
    "Remember, in this instance, we knew our population parameters, that the average height really is 172 cm and the standard deviation is 5 cm, and we see some of our daily estimates of the population mean were as low as around 168 and some as high as 176.\n"
   ]
  },
  {
   "attachments": {},
   "cell_type": "markdown",
   "metadata": {},
   "source": [
    "**Q10:** Repeat the above year's worth of samples but for a sample size of 50 (perhaps you had a bigger budget for conducting surveys that year)! Would you expect your distribution of sample means to be wider (more variable) or narrower (more consistent)? Compare your resultant summary statistics to those predicted by the CLT.\n"
   ]
  },
  {
   "attachments": {},
   "cell_type": "markdown",
   "metadata": {},
   "source": [
    "**A:**\n"
   ]
  },
  {
   "cell_type": "code",
   "execution_count": 23,
   "metadata": {},
   "outputs": [
    {
     "name": "stdout",
     "output_type": "stream",
     "text": [
      "Expected mean (sample size=50): 171.9437\n",
      "Standard deviation of daily means (sample size=50): 0.6736107539771146\n",
      "Within 0.1 relative tolerance: True\n"
     ]
    }
   ],
   "source": [
    "seed(47)\n",
    "# calculate daily means from the larger sample size here\n",
    "\n",
    "for i in np.arange(365):\n",
    "    daily_means[i] = np.mean(townsfolk_sampler(50))\n",
    "\n",
    "exp_mean = np.mean(daily_means)\n",
    "print(f\"Expected mean (sample size=50): {exp_mean:.4f}\")\n",
    "\n",
    "daily_mean_std_dev = np.std(daily_means)\n",
    "print(f\"Standard deviation of daily means (sample size=50): {daily_mean_std_dev}\")\n",
    "print(\n",
    "    f\"Within 0.1 relative tolerance: \\\n",
    "{np.isclose([daily_mean_std_dev], [5/np.sqrt(50)], rtol=0.1)[0]}\"\n",
    ")"
   ]
  },
  {
   "attachments": {},
   "cell_type": "markdown",
   "metadata": {},
   "source": [
    "I would expect the standard deviation of the distribution of the sample means to be narrower (more consistent).<br>\n",
    "In formula,\n",
    "\n",
    "\\begin{equation}\n",
    "\\sigma_{mean} = \\frac{\\sigma}{\\sqrt n}\n",
    "\\end{equation}\n",
    "\n",
    "as $n$ ↑, $\\sigma_{mean}$ ↓\n"
   ]
  },
  {
   "attachments": {},
   "cell_type": "markdown",
   "metadata": {},
   "source": [
    "What we've seen so far, then, is that we can estimate population parameters from a sample from the population, and that samples have their own distributions. Furthermore, the larger the sample size, the narrower are those sampling distributions.\n"
   ]
  },
  {
   "attachments": {},
   "cell_type": "markdown",
   "metadata": {},
   "source": [
    "### Normally testing time!\n"
   ]
  },
  {
   "attachments": {},
   "cell_type": "markdown",
   "metadata": {},
   "source": [
    "All of the above is well and good. We've been sampling from a population we know is normally distributed, we've come to understand when to use $n$ and when to use $n-1$ in the denominator to calculate the spread of a distribution, and we've seen the Central Limit Theorem in action for a sampling distribution. All seems very well behaved in Frequentist land. But, well, why should we really care?\n"
   ]
  },
  {
   "attachments": {},
   "cell_type": "markdown",
   "metadata": {},
   "source": [
    "Remember, we rarely (if ever) actually know our population parameters but we still have to estimate them somehow. If we want to make inferences to conclusions like \"this observation is unusual\" or \"my population mean has changed\" then we need to have some idea of what the underlying distribution is so we can calculate relevant probabilities. In frequentist inference, we use the formulae above to deduce these population parameters. Take a moment in the next part of this assignment to refresh your understanding of how these probabilities work.\n"
   ]
  },
  {
   "attachments": {},
   "cell_type": "markdown",
   "metadata": {},
   "source": [
    "Recall some basic properties of the standard normal distribution, such as that about 68% of observations are within plus or minus 1 standard deviation of the mean. Check out the precise definition of a normal distribution on p. 394 of _AoS_.\n",
    "\n",
    "**Q11:** Using this fact, calculate the probability of observing the value 1 or less in a single observation from the standard normal distribution. Hint: you may find it helpful to sketch the standard normal distribution (the familiar bell shape) and mark the number of standard deviations from the mean on the x-axis and shade the regions of the curve that contain certain percentages of the population.\n"
   ]
  },
  {
   "attachments": {},
   "cell_type": "markdown",
   "metadata": {},
   "source": [
    "**A:**\n"
   ]
  },
  {
   "attachments": {},
   "cell_type": "markdown",
   "metadata": {},
   "source": [
    "Calculating this probability involved calculating the area under the curve from the value of 1 and below. To put it in mathematical terms, we need to _integrate_ the probability density function. We could just add together the known areas of chunks (from -Inf to 0 and then 0 to $+\\sigma$ in the example above). One way to do this is to look up tables (literally). Fortunately, scipy has this functionality built in with the cdf() function.\n"
   ]
  },
  {
   "cell_type": "code",
   "execution_count": 24,
   "metadata": {},
   "outputs": [
    {
     "data": {
      "image/png": "[encoded data removed]",
      "text/plain": [
       "<Figure size 640x480 with 1 Axes>"
      ]
     },
     "metadata": {},
     "output_type": "display_data"
    },
    {
     "name": "stdout",
     "output_type": "stream",
     "text": [
      "Area = ~0.8410\n"
     ]
    }
   ],
   "source": [
    "\n",
    "def normal_curve(x, mu=0, sigma=1):\n",
    "    return (\n",
    "        1\n",
    "        / (sigma * np.sqrt(2 * math.pi))\n",
    "        * np.exp((-1 * (x - mu) ** 2) / (2 * sigma**2))\n",
    "    )\n",
    "\n",
    "\n",
    "xs = np.linspace(-4, 4, 10000)\n",
    "fx = normal_curve(xs)\n",
    "\n",
    "plt.plot(xs, fx)\n",
    "plt.fill_between(x=xs, y1=fx, y2=0, where=xs < 0, alpha=0.3, color=\"skyblue\")\n",
    "plt.axvline(x=0, color=\"r\", label=r\"$\\mu$\")\n",
    "\n",
    "plt.fill_between(\n",
    "    x=xs, y1=fx, y2=0, where=np.bitwise_and(xs < 1, xs > 0), alpha=0.3, color=\"g\"\n",
    ")\n",
    "plt.axvline(x=1, color=\"r\", linestyle=\"--\", label=r\"1$\\sigma$\")\n",
    "plt.annotate(text=\"50%\", xy=(-1, 0.2), color=\"b\")\n",
    "plt.annotate(text=\"34%\", xy=(0.1, 0.2), color=\"g\")\n",
    "plt.xlabel(r\"Number of $\\sigma$'s from mean\")\n",
    "plt.ylabel(\"Probability density\")\n",
    "plt.title(\"Normal distribution\")\n",
    "plt.legend()\n",
    "plt.show()\n",
    "\n",
    "print(f\"Area = ~{0.5 + 0.682/2:.4f}\")"
   ]
  },
  {
   "cell_type": "code",
   "execution_count": 25,
   "metadata": {},
   "outputs": [
    {
     "data": {
      "image/png": "[encoded data removed]",
      "text/plain": [
       "<Figure size 640x480 with 1 Axes>"
      ]
     },
     "metadata": {},
     "output_type": "display_data"
    },
    {
     "name": "stdout",
     "output_type": "stream",
     "text": [
      "Fraction by bin chunks: 0.8285\n",
      "Fraction from probability distribution function: 0.8414\n"
     ]
    }
   ],
   "source": [
    "ys = norm.rvs(0, 1, 10000)\n",
    "xs = np.linspace(-4, 4, 10000)\n",
    "\n",
    "\n",
    "# Draw histogram\n",
    "ns, bs, ps = plt.hist(\n",
    "    ys, density=False, bins=100, histtype=\"step\", linewidth=3, align=\"left\"\n",
    ")\n",
    "\n",
    "# shaded bars\n",
    "new_b = [b for b in bs if b < 1]\n",
    "new_n = ns[: len(new_b)]\n",
    "\n",
    "plt.bar(height=new_n, x=new_b, align=\"edge\", width=0.05, alpha=0.5, color=\"gray\")\n",
    "\n",
    "_ = plt.axvline(x=0, color=\"r\", label=r\"$\\mu$\")\n",
    "_ = plt.axvline(x=1, color=\"r\", linestyle=\"--\", label=r\"$1\\sigma$\")\n",
    "\n",
    "# chart labels\n",
    "plt.xlabel(r\"Number of $\\sigma$'s from mean\")\n",
    "plt.ylabel(\"Probability density\")\n",
    "plt.title(\"Normal distribution\")\n",
    "plt.legend()\n",
    "plt.show()\n",
    "\n",
    "total_count = np.sum(ns)\n",
    "shaded_count = np.sum(ns * (bs[1:] < 1))\n",
    "frac_chunk = shaded_count / total_count\n",
    "print(f\"Fraction by bin chunks: {frac_chunk:.4f}\")\n",
    "\n",
    "\n",
    "total = np.sum([norm.pdf(x_val, 0, 1) for x_val in xs])\n",
    "shaded = np.sum([norm.pdf(x_val, 0, 1) for x_val in xs if x_val <= 1])\n",
    "shaded_frac = shaded / total\n",
    "print(f\"Fraction from probability distribution function: {shaded_frac:.4f}\")"
   ]
  },
  {
   "attachments": {},
   "cell_type": "markdown",
   "metadata": {},
   "source": [
    "**Q12:** Use the cdf() function to answer the question above again and verify you get the same answer.\n"
   ]
  },
  {
   "attachments": {},
   "cell_type": "markdown",
   "metadata": {},
   "source": [
    "**A:**\n"
   ]
  },
  {
   "cell_type": "code",
   "execution_count": 26,
   "metadata": {},
   "outputs": [
    {
     "data": {
      "text/plain": [
       "0.8413447460685429"
      ]
     },
     "execution_count": 26,
     "metadata": {},
     "output_type": "execute_result"
    }
   ],
   "source": [
    "norm.cdf(1, loc=0, scale=1)\n"
   ]
  },
  {
   "attachments": {},
   "cell_type": "markdown",
   "metadata": {},
   "source": [
    "**Q13:** Using our knowledge of the population parameters for our townsfolks' heights, what is the probability of selecting one person at random and their height being 177 cm or less? Calculate this using both of the approaches given above.\n"
   ]
  },
  {
   "attachments": {},
   "cell_type": "markdown",
   "metadata": {},
   "source": [
    "**A:**\n"
   ]
  },
  {
   "cell_type": "code",
   "execution_count": 27,
   "metadata": {},
   "outputs": [
    {
     "name": "stdout",
     "output_type": "stream",
     "text": [
      "Probability using cdf method: 0.8413\n",
      "Probability using crude approx: 0.8410\n"
     ]
    }
   ],
   "source": [
    "prob_177_or_less = norm.cdf(177, 172, 5)\n",
    "print(f\"Probability using cdf method: {prob_177_or_less:.4f}\")\n",
    "\n",
    "n_std = (177 - 172) / 5\n",
    "prob_177_or_less_2 = 0.341 * n_std + 0.5\n",
    "print(f\"Probability using crude approx: {prob_177_or_less_2:.4f}\")"
   ]
  },
  {
   "attachments": {},
   "cell_type": "markdown",
   "metadata": {},
   "source": [
    "**Q14:** Turning this question around — suppose we randomly pick one person and measure their height and find they are 2.00 m tall. How surprised should we be at this result, given what we know about the population distribution? In other words, how likely would it be to obtain a value at least as extreme as this? Express this as a probability.\n"
   ]
  },
  {
   "attachments": {},
   "cell_type": "markdown",
   "metadata": {},
   "source": [
    "**A:**\n"
   ]
  },
  {
   "cell_type": "code",
   "execution_count": 28,
   "metadata": {},
   "outputs": [
    {
     "name": "stdout",
     "output_type": "stream",
     "text": [
      "It will be very unlikely as 200 is 5.6 standard deviations from the population mean.\n",
      "Probability: 1.0718e-08\n"
     ]
    }
   ],
   "source": [
    "print(\n",
    "    f\"It will be very unlikely as 200 is {(200-172)/5} standard deviations from the population mean.\"\n",
    ")\n",
    "\n",
    "# norm.sf(200, 172, 5)\n",
    "prob_200_or_more = 1 - norm.cdf(200, 172, 5)\n",
    "print(f\"Probability: {prob_200_or_more:.4e}\")"
   ]
  },
  {
   "attachments": {},
   "cell_type": "markdown",
   "metadata": {},
   "source": [
    "What we've just done is calculate the **_p-value_** of the observation of someone 2.00m tall (review _p_-values if you need to on p. 399 of _AoS_). We could calculate this probability by virtue of knowing the population parameters. We were then able to use the known properties of the relevant normal distribution to calculate the probability of observing a value at least as extreme as our test value.\n"
   ]
  },
  {
   "attachments": {},
   "cell_type": "markdown",
   "metadata": {},
   "source": [
    "We're about to come to a pinch, though. We've said a couple of times that we rarely, if ever, know the true population parameters; we have to estimate them from our sample and we cannot even begin to estimate the standard deviation from a single observation.\n",
    "\n",
    "This is very true and usually we have sample sizes larger than one. This means we can calculate the mean of the sample as our best estimate of the population mean and the standard deviation as our best estimate of the population standard deviation.\n",
    "\n",
    "In other words, we are now coming to deal with the sampling distributions we mentioned above as we are generally concerned with the properties of the sample means we obtain.\n",
    "\n",
    "Above, we highlighted one result from the CLT, whereby the sampling distribution (of the mean) becomes narrower and narrower with the square root of the sample size. We remind ourselves that another result from the CLT is that _even if the underlying population distribution is not normal, the sampling distribution will tend to become normal with sufficiently large sample size_. (**Check out p. 199 of AoS if you need to revise this**). This is the key driver for us 'requiring' a certain sample size, for example you may frequently see a minimum sample size of 30 stated in many places. In reality this is simply a rule of thumb; if the underlying distribution is approximately normal then your sampling distribution will already be pretty normal, but if the underlying distribution is heavily skewed then you'd want to increase your sample size.\n"
   ]
  },
  {
   "attachments": {},
   "cell_type": "markdown",
   "metadata": {},
   "source": [
    "**Q15:** Let's now start from the position of knowing nothing about the heights of people in our town.\n",
    "\n",
    "- Use the random seed of 47, to randomly sample the heights of 50 townsfolk\n",
    "- Estimate the population mean using np.mean\n",
    "- Estimate the population standard deviation using np.std (remember which denominator to use!)\n",
    "- Calculate the (95%) [margin of error](https://www.statisticshowto.com/probability-and-statistics/hypothesis-testing/margin-of-error/) (use the exact critial z value to 2 decimal places - [look this up](https://www.statisticshowto.com/probability-and-statistics/find-critical-values/) or use norm.ppf()) Recall that the **_margin of error_** is mentioned on p. 189 of the _AoS_ and discussed in depth in that chapter).\n",
    "- Calculate the 95% Confidence Interval of the mean (**_confidence intervals_** are defined on p. 385 of _AoS_)\n",
    "- Does this interval include the true population mean?\n"
   ]
  },
  {
   "attachments": {},
   "cell_type": "markdown",
   "metadata": {},
   "source": [
    "**A:**\n"
   ]
  },
  {
   "cell_type": "code",
   "execution_count": 29,
   "metadata": {},
   "outputs": [],
   "source": [
    "seed(47)\n",
    "# take your sample now\n",
    "\n",
    "# Randomly sample the heights of 50 townsfolk\n",
    "sample_50 = townsfolk_sampler(50)\n",
    "\n",
    "\n",
    "# sample_50_means = np.zeros(10000)\n",
    "# for i in range(10000):\n",
    "#     sample_50_means[i] = np.mean(np.random.choice(sample_50, size=50))\n",
    "#     # sample_50_means.append(sample_40.mean())\n",
    "\n",
    "# plt.hist(sample_50, bins=20, histtype='step', label='sample_50', density=True)\n",
    "# plt.hist(sample_50_means,bins=20, histtype = 'step', label='sample_50_means', density=True)\n",
    "# plt.legend()\n",
    "# plt.show()"
   ]
  },
  {
   "cell_type": "code",
   "execution_count": 30,
   "metadata": {},
   "outputs": [
    {
     "name": "stdout",
     "output_type": "stream",
     "text": [
      "Estimated population mean: 172.78\n"
     ]
    }
   ],
   "source": [
    "# Estimate the population mean using np.mean\n",
    "sample_50_mean = np.mean(sample_50)\n",
    "print(f\"Estimated population mean: {sample_50_mean:.2f}\")\n"
   ]
  },
  {
   "cell_type": "code",
   "execution_count": 31,
   "metadata": {},
   "outputs": [
    {
     "name": "stdout",
     "output_type": "stream",
     "text": [
      "Estimated population standard deviation: 4.195424364433547\n"
     ]
    }
   ],
   "source": [
    "# Estimate the population standard deviation\n",
    "# est_pop_std = np.std(sample_50, ddof=1)\n",
    "\n",
    "est_pop_std = np.sqrt(np.sum((sample_50 - sample_50_mean) ** 2 / (len(sample_50) - 1)))\n",
    "print(f\"Estimated population standard deviation: {est_pop_std}\")"
   ]
  },
  {
   "cell_type": "code",
   "execution_count": 32,
   "metadata": {},
   "outputs": [
    {
     "name": "stdout",
     "output_type": "stream",
     "text": [
      "Margin of Error: 1.162912303074119\n"
     ]
    }
   ],
   "source": [
    "# 95% margin of error\n",
    "# Margin of error (statistic) = Critical value x Standard error of the sample.\n",
    "\n",
    "crit_value = 1.96\n",
    "std_err = est_pop_std / np.sqrt(50)\n",
    "moe = crit_value * std_err\n",
    "print(f\"Margin of Error: {moe}\")"
   ]
  },
  {
   "cell_type": "code",
   "execution_count": 33,
   "metadata": {},
   "outputs": [
    {
     "name": "stdout",
     "output_type": "stream",
     "text": [
      "Confidence interval of mean: (171.6185985546047, 173.9444231607529)\n"
     ]
    }
   ],
   "source": [
    "# Calculate the 95% Confidence Interval of the mean\n",
    "ub = sample_50_mean + moe\n",
    "lb = sample_50_mean - moe\n",
    "print(f\"Confidence interval of mean: ({lb}, {ub})\")"
   ]
  },
  {
   "cell_type": "code",
   "execution_count": 34,
   "metadata": {},
   "outputs": [
    {
     "name": "stdout",
     "output_type": "stream",
     "text": [
      "Yes! This interval includes the true population mean\n"
     ]
    }
   ],
   "source": [
    "# Does this interval include the true population mean?\n",
    "print(f\"Yes! This interval includes the true population mean\")\n"
   ]
  },
  {
   "attachments": {},
   "cell_type": "markdown",
   "metadata": {},
   "source": [
    "**Q16:** Above, we calculated the confidence interval using the critical z value. What is the problem with this? What requirement, or requirements, are we (strictly) failing?\n"
   ]
  },
  {
   "attachments": {},
   "cell_type": "markdown",
   "metadata": {},
   "source": [
    "**A:**\n"
   ]
  },
  {
   "cell_type": "code",
   "execution_count": 35,
   "metadata": {},
   "outputs": [
    {
     "name": "stdout",
     "output_type": "stream",
     "text": [
      "We do not know the standard deviation of the population.\n",
      "This is a requirement for using the z-score.\n"
     ]
    }
   ],
   "source": [
    "print(\n",
    "    f\"\"\"We do not know the standard deviation of the population.\n",
    "This is a requirement for using the z-score.\"\"\"\n",
    ")"
   ]
  },
  {
   "attachments": {},
   "cell_type": "markdown",
   "metadata": {},
   "source": [
    "**Q17:** Calculate the 95% confidence interval for the mean using the _t_ distribution. Is this wider or narrower than that based on the normal distribution above? If you're unsure, you may find this [resource](https://www.statisticshowto.com/probability-and-statistics/confidence-interval/) useful. For calculating the critical value, remember how you could calculate this for the normal distribution using norm.ppf().\n"
   ]
  },
  {
   "attachments": {},
   "cell_type": "markdown",
   "metadata": {},
   "source": [
    "**A:**\n"
   ]
  },
  {
   "cell_type": "code",
   "execution_count": 36,
   "metadata": {},
   "outputs": [
    {
     "name": "stdout",
     "output_type": "stream",
     "text": [
      "Confidence interval of mean: (171.58916975346565, 173.97385196189194)\n"
     ]
    }
   ],
   "source": [
    "t_val = 2.0096 # taken from https://www.ttable.org\n",
    "error = t_val * std_err\n",
    "lb = sample_50_mean - error\n",
    "ub = sample_50_mean + error\n",
    "\n",
    "print(f\"Confidence interval of mean: ({lb}, {ub})\")"
   ]
  },
  {
   "cell_type": "code",
   "execution_count": 37,
   "metadata": {},
   "outputs": [
    {
     "data": {
      "text/plain": [
       "(171.589184447403, 173.9738372679546)"
      ]
     },
     "execution_count": 37,
     "metadata": {},
     "output_type": "execute_result"
    }
   ],
   "source": [
    "t.ppf([0.025, 0.975], loc=sample_50_mean, scale=est_pop_std/np.sqrt(50), df=49)\n",
    "t.interval(alpha=0.95, loc=sample_50_mean, scale=est_pop_std/np.sqrt(50), df=49)\n"
   ]
  },
  {
   "attachments": {},
   "cell_type": "markdown",
   "metadata": {},
   "source": [
    "This is slightly wider than the previous confidence interval. This reflects the greater uncertainty given that we are estimating population parameters from a sample.\n"
   ]
  },
  {
   "attachments": {},
   "cell_type": "markdown",
   "metadata": {},
   "source": [
    "## 4. Learning outcomes\n"
   ]
  },
  {
   "attachments": {},
   "cell_type": "markdown",
   "metadata": {},
   "source": [
    "Having completed this project notebook, you now have hands-on experience:\n",
    "\n",
    "- sampling and calculating probabilities from a normal distribution\n",
    "- identifying the correct way to estimate the standard deviation of a population (the population parameter) from a sample\n",
    "- with sampling distribution and now know how the Central Limit Theorem applies\n",
    "- with how to calculate critical values and confidence intervals\n"
   ]
  },
  {
   "cell_type": "code",
   "execution_count": null,
   "metadata": {},
   "outputs": [],
   "source": []
  }
 ],
 "metadata": {
  "kernelspec": {
   "display_name": "Python 3",
   "language": "python",
   "name": "python3"
  },
  "language_info": {
   "codemirror_mode": {
    "name": "ipython",
    "version": 3
   },
   "file_extension": ".py",
   "mimetype": "text/x-python",
   "name": "python",
   "nbconvert_exporter": "python",
   "pygments_lexer": "ipython3",
   "version": "3.9.16"
  }
 },
 "nbformat": 4,
 "nbformat_minor": 2
}
