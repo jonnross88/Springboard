{
 "cells": [
  {
   "cell_type": "markdown",
   "metadata": {},
   "source": [
    "# Frequentist Inference Case Study - Part B\n"
   ]
  },
  {
   "cell_type": "markdown",
   "metadata": {},
   "source": [
    "## Learning objectives\n"
   ]
  },
  {
   "cell_type": "markdown",
   "metadata": {},
   "source": [
    "Welcome to Part B of the Frequentist inference case study! The purpose of this case study is to help you apply the concepts associated with Frequentist inference in Python. In particular, you'll practice writing Python code to apply the following statistical concepts:\n",
    "\n",
    "- the _z_-statistic\n",
    "- the _t_-statistic\n",
    "- the difference and relationship between the two\n",
    "- the Central Limit Theorem, including its assumptions and consequences\n",
    "- how to estimate the population mean and standard deviation from a sample\n",
    "- the concept of a sampling distribution of a test statistic, particularly for the mean\n",
    "- how to combine these concepts to calculate a confidence interval\n"
   ]
  },
  {
   "cell_type": "markdown",
   "metadata": {},
   "source": [
    "In the previous notebook, we used only data from a known normal distribution. **You'll now tackle real data, rather than simulated data, and answer some relevant real-world business problems using the data.**\n"
   ]
  },
  {
   "cell_type": "markdown",
   "metadata": {},
   "source": [
    "## Hospital medical charges\n"
   ]
  },
  {
   "cell_type": "markdown",
   "metadata": {},
   "source": [
    "Imagine that a hospital has hired you as their data scientist. An administrator is working on the hospital's business operations plan and needs you to help them answer some business questions.\n",
    "\n",
    "In this assignment notebook, you're going to use frequentist statistical inference on a data sample to answer the questions:\n",
    "\n",
    "- has the hospital's revenue stream fallen below a key threshold?\n",
    "- are patients with insurance really charged different amounts than those without?\n",
    "\n",
    "Answering that last question with a frequentist approach makes some assumptions, and requires some knowledge, about the two groups.\n"
   ]
  },
  {
   "cell_type": "markdown",
   "metadata": {},
   "source": [
    "We are going to use some data on medical charges obtained from [Kaggle](https://www.kaggle.com/easonlai/sample-insurance-claim-prediction-dataset).\n",
    "\n",
    "For the purposes of this exercise, assume the observations are the result of random sampling from our single hospital. Recall that in the previous assignment, we introduced the Central Limit Theorem (CLT), and its consequence that the distributions of sample statistics approach a normal distribution as $n$ increases. The amazing thing about this is that it applies to the sampling distributions of statistics that have been calculated from even highly non-normal distributions of data! Recall, also, that hypothesis testing is very much based on making inferences about such sample statistics. You're going to rely heavily on the CLT to apply frequentist (parametric) tests to answer the questions in this notebook.\n"
   ]
  },
  {
   "cell_type": "code",
   "execution_count": 2,
   "metadata": {},
   "outputs": [],
   "source": [
    "import pandas as pd\n",
    "import numpy as np\n",
    "import matplotlib.pyplot as plt\n",
    "from scipy.stats import t\n",
    "from scipy.stats import ttest_ind\n",
    "from numpy.random import seed\n",
    "from pathlib import Path\n",
    "from numba import njit"
   ]
  },
  {
   "cell_type": "code",
   "execution_count": 3,
   "metadata": {},
   "outputs": [],
   "source": [
    "plt.rcParams[\"axes.labelcolor\"] = \"#424242\"\n",
    "plt.rcParams[\"axes.titlecolor\"] = \"#424242\"\n",
    "plt.rcParams[\"xtick.labelcolor\"] = \"#424242\"\n",
    "plt.rcParams[\"ytick.labelcolor\"] = \"#424242\"\n",
    "plt.rcParams[\"axes.spines.top\"] = False\n",
    "plt.rcParams[\"axes.spines.right\"] = False\n",
    "plt.rcParams[\"axes.titlepad\"] = 10\n"
   ]
  },
  {
   "cell_type": "code",
   "execution_count": 4,
   "metadata": {},
   "outputs": [],
   "source": [
    "insurance_path = Path(\"../data/insurance2.csv\")"
   ]
  },
  {
   "cell_type": "code",
   "execution_count": 5,
   "metadata": {},
   "outputs": [],
   "source": [
    "medical = pd.read_csv(\"../../data/insurance2.csv\")"
   ]
  },
  {
   "cell_type": "code",
   "execution_count": 6,
   "metadata": {},
   "outputs": [
    {
     "data": {
      "text/plain": [
       "(1338, 8)"
      ]
     },
     "execution_count": 6,
     "metadata": {},
     "output_type": "execute_result"
    }
   ],
   "source": [
    "medical.shape\n"
   ]
  },
  {
   "cell_type": "code",
   "execution_count": 7,
   "metadata": {},
   "outputs": [
    {
     "data": {
      "text/html": [
       "<div>\n",
       "<style scoped>\n",
       "    .dataframe tbody tr th:only-of-type {\n",
       "        vertical-align: middle;\n",
       "    }\n",
       "\n",
       "    .dataframe tbody tr th {\n",
       "        vertical-align: top;\n",
       "    }\n",
       "\n",
       "    .dataframe thead th {\n",
       "        text-align: right;\n",
       "    }\n",
       "</style>\n",
       "<table border=\"1\" class=\"dataframe\">\n",
       "  <thead>\n",
       "    <tr style=\"text-align: right;\">\n",
       "      <th></th>\n",
       "      <th>age</th>\n",
       "      <th>sex</th>\n",
       "      <th>bmi</th>\n",
       "      <th>children</th>\n",
       "      <th>smoker</th>\n",
       "      <th>region</th>\n",
       "      <th>charges</th>\n",
       "      <th>insuranceclaim</th>\n",
       "    </tr>\n",
       "  </thead>\n",
       "  <tbody>\n",
       "    <tr>\n",
       "      <th>0</th>\n",
       "      <td>19</td>\n",
       "      <td>0</td>\n",
       "      <td>27.900</td>\n",
       "      <td>0</td>\n",
       "      <td>1</td>\n",
       "      <td>3</td>\n",
       "      <td>16884.92400</td>\n",
       "      <td>1</td>\n",
       "    </tr>\n",
       "    <tr>\n",
       "      <th>1</th>\n",
       "      <td>18</td>\n",
       "      <td>1</td>\n",
       "      <td>33.770</td>\n",
       "      <td>1</td>\n",
       "      <td>0</td>\n",
       "      <td>2</td>\n",
       "      <td>1725.55230</td>\n",
       "      <td>1</td>\n",
       "    </tr>\n",
       "    <tr>\n",
       "      <th>2</th>\n",
       "      <td>28</td>\n",
       "      <td>1</td>\n",
       "      <td>33.000</td>\n",
       "      <td>3</td>\n",
       "      <td>0</td>\n",
       "      <td>2</td>\n",
       "      <td>4449.46200</td>\n",
       "      <td>0</td>\n",
       "    </tr>\n",
       "    <tr>\n",
       "      <th>3</th>\n",
       "      <td>33</td>\n",
       "      <td>1</td>\n",
       "      <td>22.705</td>\n",
       "      <td>0</td>\n",
       "      <td>0</td>\n",
       "      <td>1</td>\n",
       "      <td>21984.47061</td>\n",
       "      <td>0</td>\n",
       "    </tr>\n",
       "    <tr>\n",
       "      <th>4</th>\n",
       "      <td>32</td>\n",
       "      <td>1</td>\n",
       "      <td>28.880</td>\n",
       "      <td>0</td>\n",
       "      <td>0</td>\n",
       "      <td>1</td>\n",
       "      <td>3866.85520</td>\n",
       "      <td>1</td>\n",
       "    </tr>\n",
       "  </tbody>\n",
       "</table>\n",
       "</div>"
      ],
      "text/plain": [
       "   age  sex     bmi  children  smoker  region      charges  insuranceclaim\n",
       "0   19    0  27.900         0       1       3  16884.92400               1\n",
       "1   18    1  33.770         1       0       2   1725.55230               1\n",
       "2   28    1  33.000         3       0       2   4449.46200               0\n",
       "3   33    1  22.705         0       0       1  21984.47061               0\n",
       "4   32    1  28.880         0       0       1   3866.85520               1"
      ]
     },
     "execution_count": 7,
     "metadata": {},
     "output_type": "execute_result"
    }
   ],
   "source": [
    "medical.head()\n"
   ]
  },
  {
   "cell_type": "markdown",
   "metadata": {},
   "source": [
    "**Q1:** Plot the histogram of charges and calculate the mean and standard deviation. Comment on the appropriateness of these statistics for the data.\n"
   ]
  },
  {
   "cell_type": "markdown",
   "metadata": {},
   "source": [
    "**A:**\n"
   ]
  },
  {
   "cell_type": "code",
   "execution_count": 8,
   "metadata": {},
   "outputs": [
    {
     "name": "stdout",
     "output_type": "stream",
     "text": [
      "Mean of charges: $13,270.42\n",
      "Standard deviation of charges: $12,110.01\n"
     ]
    },
    {
     "data": {
      "image/png": "[encoded data removed]",
      "text/plain": [
       "<Figure size 640x480 with 1 Axes>"
      ]
     },
     "metadata": {},
     "output_type": "display_data"
    }
   ],
   "source": [
    "charges_mean = np.mean(medical[\"charges\"])\n",
    "charges_std = np.std(medical[\"charges\"], ddof=1)\n",
    "print(f\"Mean of charges: ${charges_mean:,.2f}\")\n",
    "print(f\"Standard deviation of charges: ${charges_std:,.2f}\")\n",
    "\n",
    "fig, ax = plt.subplots()\n",
    "plt.hist(\n",
    "    medical[\"charges\"] / 1000,\n",
    "    histtype=\"step\",\n",
    ")\n",
    "ax.xaxis.set_major_formatter(\"{x:,.0f}k\")\n",
    "plt.xlabel(\"Charges ($)\")\n",
    "plt.ylabel(\"Count\")\n",
    "plt.title(\"Distrubution of charges\")\n",
    "\n",
    "plt.axvline(x=charges_mean / 1000, color=\"r\", linestyle=\"--\", label=\"mean charge\")\n",
    "plt.annotate(\n",
    "    text=f\"$\\mu$=\\${charges_mean/1000:.2f}k\",\n",
    "    xy=(charges_mean / 1000 + 1, 400),\n",
    "    color=\"r\",\n",
    ")\n",
    "# plt.legend()\n",
    "plt.show()"
   ]
  },
  {
   "attachments": {},
   "cell_type": "markdown",
   "metadata": {},
   "source": [
    "The standard deviation and mean is more useful in finding proportions of the data when the data is normally distributed. As the shape of this data does not resemble a normal curve, they are less useful.\n"
   ]
  },
  {
   "cell_type": "code",
   "execution_count": null,
   "metadata": {},
   "outputs": [],
   "source": [
    "\n"
   ]
  },
  {
   "cell_type": "markdown",
   "metadata": {},
   "source": [
    "**Q2:** The administrator is concerned that the actual average charge has fallen below 12,000, threatening the hospital's operational model. On the assumption that these data represent a random sample of charges, how would you justify that these data allow you to answer that question? And what would be the most appropriate frequentist test, of the ones discussed so far, to apply?\n"
   ]
  },
  {
   "attachments": {},
   "cell_type": "markdown",
   "metadata": {},
   "source": [
    "**A:**\n",
    "Given that the data is a random sample, it should be an approximate of the true population data.<br>\n",
    "\n",
    "An appropriate test would be the *null hypothesis significance test* from which we would obtain a *p-value*. We can then answer this question with the technique of _bootstrapping_, to get the bootstrap estimate of the mean. If we repeat the measurement over and over again, p% of the observed values would lie within p% confidence interval. We take the percentiles of the bootstrap replicates to compute the confidence interval.\n"
   ]
  },
  {
   "cell_type": "markdown",
   "metadata": {},
   "source": [
    "**Q3:** Given the nature of the administrator's concern, what is the appropriate confidence interval in this case? A **_one-sided_** or **_two-sided_** interval? (Refresh your understanding of this concept on p. 399 of the _AoS_). Calculate the critical value and the relevant 95% confidence interval for the mean, and comment on whether the administrator should be concerned.\n"
   ]
  },
  {
   "cell_type": "markdown",
   "metadata": {},
   "source": [
    "**A:**\n"
   ]
  },
  {
   "cell_type": "code",
   "execution_count": 9,
   "metadata": {},
   "outputs": [
    {
     "name": "stdout",
     "output_type": "stream",
     "text": [
      "One-sided interval is the appropriate confidence interval.\n"
     ]
    }
   ],
   "source": [
    "print(f\"One-sided interval is the appropriate confidence interval.\")\n"
   ]
  },
  {
   "attachments": {},
   "cell_type": "markdown",
   "metadata": {},
   "source": [
    "**Null hypothesis**: The actual average charge per record is below 12,000.<br>\n",
    "**Alternative hypothesis**: The actual average charge per reeccord is above 12,000.<br>\n",
    "**Test statistic**: the mean charge per record.<br>\n",
    "**At least as extreme as**: the average charge is greater than 12,000.<br>"
   ]
  },
  {
   "cell_type": "code",
   "execution_count": 10,
   "metadata": {},
   "outputs": [],
   "source": [
    "# sample_size = len(medical)\n",
    "medical_charges = medical.charges.values\n",
    "mean_charge_hyp = 12000\n"
   ]
  },
  {
   "cell_type": "code",
   "execution_count": 11,
   "metadata": {},
   "outputs": [],
   "source": [
    "@njit\n",
    "def bs_replicate(data):\n",
    "    n = len(data)\n",
    "    sample = np.random.choice(data, size=n)\n",
    "    return np.mean(sample)\n",
    "\n",
    "\n",
    "@njit\n",
    "def draw_replicates(data, size):\n",
    "    reps = np.empty(size, dtype=np.float64)\n",
    "    for i in range(size):\n",
    "        reps[i] = bs_replicate(data)\n",
    "    return reps\n",
    "\n"
   ]
  },
  {
   "cell_type": "code",
   "execution_count": 12,
   "metadata": {},
   "outputs": [
    {
     "data": {
      "image/png": "[encoded data removed]",
      "text/plain": [
       "<Figure size 640x480 with 1 Axes>"
      ]
     },
     "metadata": {},
     "output_type": "display_data"
    }
   ],
   "source": [
    "reps = 100000\n",
    "sample_means = draw_replicates(medical_charges, reps)\n",
    "std_error = np.std(sample_means, ddof=1)\n",
    "ci = np.percentile(sample_means, [5, 100])\n",
    "\n",
    "plt.hist(sample_means, bins=30, histtype=\"step\", density=True, color='g')\n",
    "plt.axvspan(xmin=ci[0], xmax=ci[1], alpha=0.2)\n",
    "plt.axvline(x=12000, linestyle=':', color='r', label = 'hypothesis mean charge')\n",
    "plt.axvline(x=ci[0], linestyle='-', color='b', label = 'significance level (5%)')\n",
    "plt.annotate(text=f' 0.05\\n critical value\\n(${ci[0]:,.0f})', xy=(ci[0]+3, 0.001), color='b')\n",
    "plt.annotate(text=' hypothesis\\n mean charge', xy=(12000+3, 0.001), color='r')\n",
    "plt.xlabel(\"Charges ($)\")\n",
    "plt.ylabel(\"Probability density\")\n",
    "plt.title('Distribution of bootsrtrap means')\n",
    "# plt.legend()\n",
    "plt.show()"
   ]
  },
  {
   "cell_type": "code",
   "execution_count": 13,
   "metadata": {},
   "outputs": [
    {
     "name": "stdout",
     "output_type": "stream",
     "text": [
      "95% confidence inteval (0.05, 1.00): [12733.42317957 14719.37917315]\n",
      "$12,000 is 3.85 standard errors away for the mean. \n",
      "Critical value: 12733\n",
      "p-value: 4e-05\n",
      "Reject the null hypothesis.\n"
     ]
    }
   ],
   "source": [
    "print(f\"95% confidence inteval (0.05, 1.00): {ci}\")\n",
    "\n",
    "# Number of standard errors 12,000 is away form mean\n",
    "sample_means_mean = np.mean(sample_means)\n",
    "n_sd = (sample_means_mean - mean_charge_hyp) / std_error\n",
    "print(f\"$12,000 is {n_sd:.2f} standard errors away for the mean. \")\n",
    "\n",
    "# Critical value\n",
    "critical_value = ci[0]\n",
    "print(f\"Critical value: {critical_value:.0f}\")\n",
    "\n",
    "# p-value\n",
    "p_value = np.sum(sample_means < 12000)/reps\n",
    "\n",
    "print(f\"p-value: {p_value}\")\n",
    "if p_value < 0.05:\n",
    "    print(\"Reject the null hypothesis.\")\n",
    "else:\n",
    "    print(\"We fail to reject the null hypothesis.\")"
   ]
  },
  {
   "attachments": {},
   "cell_type": "markdown",
   "metadata": {},
   "source": [
    "The administrator then wants to know whether people with insurance really are charged a different amount to those without.\n",
    "\n",
    "**Q4:** State the null and alternative hypothesis here. Use the _t_-test for the difference between means, where the pooled standard deviation of the two groups is given by:\n",
    "\\begin{equation}\n",
    "s_p = \\sqrt{\\frac{(n_0 - 1)s^2_0 + (n_1 - 1)s^2_1}{n_0 + n_1 - 2}}\n",
    "\\end{equation}\n",
    "\n",
    "and the _t_-test statistic is then given by:\n",
    "\n",
    "\\begin{equation}\n",
    "t = \\frac{\\bar{x}_0 - \\bar{x}_1}{s_p \\sqrt{1/n_0 + 1/n_1}}.\n",
    "\\end{equation}\n",
    "\n",
    "(If you need some reminding of the general definition of **_t-statistic_**, check out the definition on p. 404 of _AoS_).\n",
    "\n",
    "What assumption about the variances of the two groups are we making here?\n"
   ]
  },
  {
   "cell_type": "markdown",
   "metadata": {},
   "source": [
    "**A:**\n"
   ]
  },
  {
   "attachments": {},
   "cell_type": "markdown",
   "metadata": {},
   "source": [
    "**Null hypothesis**: there is no difference between the mean charge for people with insurance and the mean charge for people without insurance.<br>\n",
    "**Alternative hypothesis**: the difference in the means of the distributions underlying the samples is different from 0.<br>\n",
    "**Test statistic**: the difference in mean charges between people with insurance and people without insurance<br>\n",
    "**At least as extreme as**: the difference in the mean is nonzero\n"
   ]
  },
  {
   "attachments": {},
   "cell_type": "markdown",
   "metadata": {},
   "source": [
    "We are making the assumption that the populations has identical variances, and that they are 2 independent samples."
   ]
  },
  {
   "cell_type": "markdown",
   "metadata": {},
   "source": [
    "**Q5:** Perform this hypothesis test both manually, using the above formulae, and then using the appropriate function from [scipy.stats](https://docs.scipy.org/doc/scipy/reference/stats.html#statistical-tests) (hint, you're looking for a function to perform a _t_-test on two independent samples). For the manual approach, calculate the value of the test statistic and then its probability (the p-value). Verify you get the same results from both.\n"
   ]
  },
  {
   "cell_type": "markdown",
   "metadata": {},
   "source": [
    "**A:**\n"
   ]
  },
  {
   "cell_type": "code",
   "execution_count": 14,
   "metadata": {},
   "outputs": [
    {
     "name": "stdout",
     "output_type": "stream",
     "text": [
      "\n",
      "t-statistics: 11.89329903087671\n",
      "p_value: 0.0\n",
      "Reject the null hypothesis.\n"
     ]
    }
   ],
   "source": [
    "medical_yes_ins = medical[medical['insuranceclaim'] == 1]\n",
    "medical_no_ins = medical[medical['insuranceclaim'] == 0]\n",
    "\n",
    "# medical charges\n",
    "yes_ins_charges = medical_yes_ins.charges.values\n",
    "no_ins_charges = medical_no_ins.charges.values\n",
    "\n",
    "# means\n",
    "xbar_yes = medical_yes_ins.charges.mean()\n",
    "xbar_no = medical_no_ins.charges.mean()\n",
    "\n",
    "n_yes = len(medical_yes_ins)\n",
    "n_no = len(medical_no_ins)\n",
    "\n",
    "# std dev\n",
    "s_yes = np.std(yes_ins_charges, ddof=1)\n",
    "s_no = np.std(no_ins_charges, ddof=1)\n",
    "\n",
    "# pooled standard deviation\n",
    "s_p = np.sqrt(((n_yes - 1) * s_yes**2 + (n_no - 1) * s_no**2) / (n_yes + n_no - 2))\n",
    "\n",
    "# t-statistic\n",
    "t_stat = (xbar_yes - xbar_no) / (s_p*np.sqrt(1/n_yes + 1/n_no))\n",
    "\n",
    "# print(statistic)\n",
    "# print(p_value)\n",
    "print()\n",
    "print(f\"t-statistics: {t_stat}\")\n",
    "p_val = (1 - t.cdf(t_stat, df=n_yes + n_no - 2))/2\n",
    "print(f\"p_value: {p_val}\")\n",
    "if p_value < 0.05:\n",
    "    print(\"Reject the null hypothesis.\")\n",
    "else:\n",
    "    print(\"We fail to reject the null hypothesis.\")\n"
   ]
  },
  {
   "cell_type": "code",
   "execution_count": 15,
   "metadata": {},
   "outputs": [
    {
     "name": "stdout",
     "output_type": "stream",
     "text": [
      "t-statistic: 11.893299030876712\n",
      "p-value: 0.0\n"
     ]
    }
   ],
   "source": [
    "# independent 2-sample t-test\n",
    "t_statistics, p_value = ttest_ind(yes_ins_charges, no_ins_charges, alternative='two-sided',\n",
    "          permutations=10000,\n",
    "          )\n",
    "print(f\"t-statistic: {t_statistics}\")\n",
    "print(f\"p-value: {p_value}\")\n"
   ]
  },
  {
   "cell_type": "code",
   "execution_count": null,
   "metadata": {},
   "outputs": [],
   "source": []
  },
  {
   "cell_type": "markdown",
   "metadata": {},
   "source": [
    "Congratulations! Hopefully you got the exact same numerical results. This shows that you correctly calculated the numbers by hand. Secondly, you used the correct function and saw that it's much easier to use. All you need to do is pass your data to it.\n"
   ]
  },
  {
   "cell_type": "markdown",
   "metadata": {},
   "source": [
    "**Q6:** Conceptual question: look through the documentation for statistical test functions in scipy.stats. You'll see the above _t_-test for a sample, but can you see an equivalent one for performing a _z_-test from a sample? Comment on your answer.\n"
   ]
  },
  {
   "attachments": {},
   "cell_type": "markdown",
   "metadata": {},
   "source": [
    "**A:**\n",
    "you can perform a 2-sample z-test with the `statsmedels` library using `statsmodels.stats.weightstats.ztest`"
   ]
  },
  {
   "cell_type": "markdown",
   "metadata": {},
   "source": [
    "## Learning outcomes\n"
   ]
  },
  {
   "cell_type": "markdown",
   "metadata": {},
   "source": [
    "Having completed this project notebook, you now have good hands-on experience:\n",
    "\n",
    "- using the central limit theorem to help you apply frequentist techniques to answer questions that pertain to very non-normally distributed data from the real world\n",
    "- performing inference using such data to answer business questions\n",
    "- forming a hypothesis and framing the null and alternative hypotheses\n",
    "- testing this using a _t_-test\n"
   ]
  }
 ],
 "metadata": {
  "kernelspec": {
   "display_name": "Python 3",
   "language": "python",
   "name": "python3"
  },
  "language_info": {
   "codemirror_mode": {
    "name": "ipython",
    "version": 3
   },
   "file_extension": ".py",
   "mimetype": "text/x-python",
   "name": "python",
   "nbconvert_exporter": "python",
   "pygments_lexer": "ipython3",
   "version": "3.9.16"
  }
 },
 "nbformat": 4,
 "nbformat_minor": 2
}
