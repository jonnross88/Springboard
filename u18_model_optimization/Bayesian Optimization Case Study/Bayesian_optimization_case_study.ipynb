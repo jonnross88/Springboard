{
 "cells": [
  {
   "cell_type": "markdown",
   "metadata": {
    "colab_type": "text",
    "id": "WNK7vbHo-KYU"
   },
   "source": [
    "## Bayesian methods of hyperparameter optimization\n"
   ]
  },
  {
   "cell_type": "markdown",
   "metadata": {
    "colab_type": "text",
    "id": "BlFdvPwF-KYW"
   },
   "source": [
    "In addition to the random search and the grid search methods for selecting optimal hyperparameters, we can use Bayesian methods of probabilities to select the optimal hyperparameters for an algorithm.\n",
    "\n",
    "In this case study, we will be using the BayesianOptimization library to perform hyperparmater tuning. This library has very good documentation which you can find here: https://github.com/fmfn/BayesianOptimization\n",
    "\n",
    "You will need to install the Bayesian optimization module. Running a cell with an exclamation point in the beginning of the command will run it as a shell command — please do this to install this module from our notebook in the cell below.\n"
   ]
  },
  {
   "cell_type": "code",
   "execution_count": 1,
   "metadata": {
    "colab": {},
    "colab_type": "code",
    "id": "Pssx080d-Ulf"
   },
   "outputs": [],
   "source": [
    "#! pip install bayesian-optimization"
   ]
  },
  {
   "cell_type": "code",
   "execution_count": 2,
   "metadata": {
    "ExecuteTime": {
     "end_time": "2019-04-22T16:39:09.312682Z",
     "start_time": "2019-04-22T16:39:09.309208Z"
    },
    "_kg_hide-input": true,
    "colab": {},
    "colab_type": "code",
    "id": "l9nfFTyj-KYY"
   },
   "outputs": [],
   "source": [
    "import os\n",
    "import warnings\n",
    "\n",
    "warnings.filterwarnings(\"ignore\")\n",
    "from sklearn.preprocessing import LabelEncoder\n",
    "import numpy as np\n",
    "import pandas as pd\n",
    "import lightgbm\n",
    "from bayes_opt import BayesianOptimization\n",
    "from catboost import CatBoostClassifier, cv, Pool"
   ]
  },
  {
   "cell_type": "code",
   "execution_count": 3,
   "metadata": {
    "colab": {
     "base_uri": "https://localhost:8080/",
     "height": 85
    },
    "colab_type": "code",
    "id": "D16Dquw1AAK0",
    "outputId": "44167587-f22e-4bf5-a816-e2bcfdc6c4ee"
   },
   "outputs": [
    {
     "data": {
      "text/plain": [
       "['Bayesian_optimization_case_study.ipynb',\n",
       " 'flight_delays_test.csv.zip',\n",
       " 'flight_delays_train.csv.zip']"
      ]
     },
     "execution_count": 3,
     "metadata": {},
     "output_type": "execute_result"
    }
   ],
   "source": [
    "# List all files in a directory using os.listdir\n",
    "os.listdir()"
   ]
  },
  {
   "cell_type": "markdown",
   "metadata": {
    "ExecuteTime": {
     "end_time": "2019-04-22T14:48:15.929012Z",
     "start_time": "2019-04-22T14:48:15.926574Z"
    },
    "colab_type": "text",
    "id": "AkBt3yds-KYu"
   },
   "source": [
    "## How does Bayesian optimization work?\n"
   ]
  },
  {
   "cell_type": "markdown",
   "metadata": {
    "colab_type": "text",
    "id": "E1kyBCUs-KYv"
   },
   "source": [
    "Bayesian optimization works by constructing a posterior distribution of functions (Gaussian process) that best describes the function you want to optimize. As the number of observations grows, the posterior distribution improves, and the algorithm becomes more certain of which regions in parameter space are worth exploring and which are not, as seen in the picture below.\n"
   ]
  },
  {
   "cell_type": "markdown",
   "metadata": {
    "colab_type": "text",
    "id": "gAdHF72R-KYw"
   },
   "source": [
    "<img src=\"https://github.com/fmfn/BayesianOptimization/blob/master/examples/bo_example.png?raw=true\" />\n",
    "As you iterate over and over, the algorithm balances its needs of exploration and exploitation while taking into account what it knows about the target function. At each step, a Gaussian Process is fitted to the known samples (points previously explored), and the posterior distribution, combined with an exploration strategy (such as UCB — aka Upper Confidence Bound), or EI (Expected Improvement). This process is used to determine the next point that should be explored (see the gif below).\n",
    "<img src=\"https://github.com/fmfn/BayesianOptimization/raw/master/examples/bayesian_optimization.gif\" />\n"
   ]
  },
  {
   "cell_type": "markdown",
   "metadata": {
    "colab_type": "text",
    "id": "RTP8KUlLoYzu"
   },
   "source": [
    "## Let's look at a simple example\n"
   ]
  },
  {
   "cell_type": "markdown",
   "metadata": {
    "colab_type": "text",
    "id": "crpPqKdC-KYx"
   },
   "source": [
    "The first step is to create an optimizer. It uses two items:\n",
    "\n",
    "- function to optimize\n",
    "- bounds of parameters\n",
    "\n",
    "The function is the procedure that counts metrics of our model quality. The important thing is that our optimization will maximize the value on function. Smaller metrics are best. Hint: don't forget to use negative metric values.\n"
   ]
  },
  {
   "cell_type": "markdown",
   "metadata": {
    "colab_type": "text",
    "id": "e09ciF8gpTfr"
   },
   "source": [
    "Here we define our simple function we want to optimize.\n"
   ]
  },
  {
   "cell_type": "code",
   "execution_count": 4,
   "metadata": {
    "colab": {},
    "colab_type": "code",
    "id": "ofwvnfEwo5mG"
   },
   "outputs": [],
   "source": [
    "def simple_func(a, b):\n",
    "    return a + b"
   ]
  },
  {
   "cell_type": "markdown",
   "metadata": {
    "colab_type": "text",
    "id": "XCGsdciCpeI3"
   },
   "source": [
    "Now, we define our bounds of the parameters to optimize, within the Bayesian optimizer.\n"
   ]
  },
  {
   "cell_type": "code",
   "execution_count": 5,
   "metadata": {
    "colab": {},
    "colab_type": "code",
    "id": "4jLYW2qnpOFr"
   },
   "outputs": [],
   "source": [
    "optimizer = BayesianOptimization(simple_func, {\"a\": (1, 3), \"b\": (4, 7)})"
   ]
  },
  {
   "cell_type": "markdown",
   "metadata": {
    "colab_type": "text",
    "id": "dg6LdYx8pq2T"
   },
   "source": [
    "These are the main parameters of this function:\n",
    "\n",
    "- **n_iter:** This is how many steps of Bayesian optimization you want to perform. The more steps, the more likely you are to find a good maximum.\n",
    "\n",
    "- **init_points:** This is how many steps of random exploration you want to perform. Random exploration can help by diversifying the exploration space.\n"
   ]
  },
  {
   "cell_type": "markdown",
   "metadata": {
    "colab_type": "text",
    "id": "i-GKMJ1uqMYv"
   },
   "source": [
    "Let's run an example where we use the optimizer to find the best values to maximize the target value for a and b given the inputs of 3 and 2.\n"
   ]
  },
  {
   "cell_type": "code",
   "execution_count": 6,
   "metadata": {
    "colab": {
     "base_uri": "https://localhost:8080/",
     "height": 153
    },
    "colab_type": "code",
    "id": "Oy44Ro7wqNat",
    "outputId": "9cc64d54-b1e6-46d1-dc29-4c0039a1c72d"
   },
   "outputs": [
    {
     "name": "stdout",
     "output_type": "stream",
     "text": [
      "|   iter    |  target   |     a     |     b     |\n",
      "-------------------------------------------------\n",
      "| \u001b[0m1        \u001b[0m | \u001b[0m8.77     \u001b[0m | \u001b[0m2.406    \u001b[0m | \u001b[0m6.364    \u001b[0m |\n",
      "| \u001b[0m2        \u001b[0m | \u001b[0m6.814    \u001b[0m | \u001b[0m1.518    \u001b[0m | \u001b[0m5.297    \u001b[0m |\n",
      "| \u001b[0m3        \u001b[0m | \u001b[0m7.385    \u001b[0m | \u001b[0m1.992    \u001b[0m | \u001b[0m5.393    \u001b[0m |\n",
      "| \u001b[95m4        \u001b[0m | \u001b[95m9.812    \u001b[0m | \u001b[95m3.0      \u001b[0m | \u001b[95m6.812    \u001b[0m |\n",
      "| \u001b[0m5        \u001b[0m | \u001b[0m7.0      \u001b[0m | \u001b[0m3.0      \u001b[0m | \u001b[0m4.0      \u001b[0m |\n",
      "=================================================\n"
     ]
    }
   ],
   "source": [
    "optimizer.maximize(3, 2)"
   ]
  },
  {
   "cell_type": "markdown",
   "metadata": {
    "colab_type": "text",
    "id": "tyKFMF2Hq2Sx"
   },
   "source": [
    "Great, now let's print the best parameters and the associated maximized target.\n"
   ]
  },
  {
   "cell_type": "code",
   "execution_count": 7,
   "metadata": {
    "colab": {
     "base_uri": "https://localhost:8080/",
     "height": 51
    },
    "colab_type": "code",
    "id": "_H6DixyfscV_",
    "outputId": "fd0c35d7-e30d-4d30-9ab2-12c0fa837971"
   },
   "outputs": [
    {
     "name": "stdout",
     "output_type": "stream",
     "text": [
      "{'a': 3.0, 'b': 6.812245702960766}\n"
     ]
    },
    {
     "data": {
      "text/plain": [
       "9.812245702960766"
      ]
     },
     "execution_count": 7,
     "metadata": {},
     "output_type": "execute_result"
    }
   ],
   "source": [
    "print(optimizer.max[\"params\"])\n",
    "optimizer.max[\"target\"]"
   ]
  },
  {
   "cell_type": "markdown",
   "metadata": {
    "colab_type": "text",
    "id": "tQ1T1V6Mspi4"
   },
   "source": [
    "## Test it on real data using the Light GBM\n"
   ]
  },
  {
   "cell_type": "markdown",
   "metadata": {
    "colab_type": "text",
    "id": "y_oGwREZkm4h"
   },
   "source": [
    "The dataset we will be working with is the famous flight departures dataset. Our modeling goal will be to predict if a flight departure is going to be delayed by 15 minutes based on the other attributes in our dataset. As part of this modeling exercise, we will use Bayesian hyperparameter optimization to identify the best parameters for our model.\n"
   ]
  },
  {
   "cell_type": "markdown",
   "metadata": {
    "colab_type": "text",
    "id": "abYSagjQANDZ"
   },
   "source": [
    "**<font color='teal'> You can load the zipped csv files just as you would regular csv files using Pandas read_csv. In the next cell load the train and test data into two seperate dataframes. </font>**\n"
   ]
  },
  {
   "cell_type": "code",
   "execution_count": 8,
   "metadata": {
    "colab": {},
    "colab_type": "code",
    "id": "EWKBApVuAeJe"
   },
   "outputs": [],
   "source": [
    "train_df = pd.read_csv(\"flight_delays_train.csv.zip\")\n",
    "test_df = pd.read_csv(\"flight_delays_test.csv.zip\")"
   ]
  },
  {
   "cell_type": "markdown",
   "metadata": {
    "colab_type": "text",
    "id": "OapNcT9Eikis"
   },
   "source": [
    "**<font color='teal'> Print the top five rows of the train dataframe and review the columns in the data. </font>**\n"
   ]
  },
  {
   "cell_type": "code",
   "execution_count": 9,
   "metadata": {
    "colab": {
     "base_uri": "https://localhost:8080/",
     "height": 204
    },
    "colab_type": "code",
    "id": "__4cXZ8iiYaC",
    "outputId": "8718ad4b-8955-486c-9ae8-1dee6aa6c2fb"
   },
   "outputs": [
    {
     "data": {
      "text/html": [
       "<div>\n",
       "<style scoped>\n",
       "    .dataframe tbody tr th:only-of-type {\n",
       "        vertical-align: middle;\n",
       "    }\n",
       "\n",
       "    .dataframe tbody tr th {\n",
       "        vertical-align: top;\n",
       "    }\n",
       "\n",
       "    .dataframe thead th {\n",
       "        text-align: right;\n",
       "    }\n",
       "</style>\n",
       "<table border=\"1\" class=\"dataframe\">\n",
       "  <thead>\n",
       "    <tr style=\"text-align: right;\">\n",
       "      <th></th>\n",
       "      <th>Month</th>\n",
       "      <th>DayofMonth</th>\n",
       "      <th>DayOfWeek</th>\n",
       "      <th>DepTime</th>\n",
       "      <th>UniqueCarrier</th>\n",
       "      <th>Origin</th>\n",
       "      <th>Dest</th>\n",
       "      <th>Distance</th>\n",
       "      <th>dep_delayed_15min</th>\n",
       "    </tr>\n",
       "  </thead>\n",
       "  <tbody>\n",
       "    <tr>\n",
       "      <th>0</th>\n",
       "      <td>c-8</td>\n",
       "      <td>c-21</td>\n",
       "      <td>c-7</td>\n",
       "      <td>1934</td>\n",
       "      <td>AA</td>\n",
       "      <td>ATL</td>\n",
       "      <td>DFW</td>\n",
       "      <td>732</td>\n",
       "      <td>N</td>\n",
       "    </tr>\n",
       "    <tr>\n",
       "      <th>1</th>\n",
       "      <td>c-4</td>\n",
       "      <td>c-20</td>\n",
       "      <td>c-3</td>\n",
       "      <td>1548</td>\n",
       "      <td>US</td>\n",
       "      <td>PIT</td>\n",
       "      <td>MCO</td>\n",
       "      <td>834</td>\n",
       "      <td>N</td>\n",
       "    </tr>\n",
       "    <tr>\n",
       "      <th>2</th>\n",
       "      <td>c-9</td>\n",
       "      <td>c-2</td>\n",
       "      <td>c-5</td>\n",
       "      <td>1422</td>\n",
       "      <td>XE</td>\n",
       "      <td>RDU</td>\n",
       "      <td>CLE</td>\n",
       "      <td>416</td>\n",
       "      <td>N</td>\n",
       "    </tr>\n",
       "    <tr>\n",
       "      <th>3</th>\n",
       "      <td>c-11</td>\n",
       "      <td>c-25</td>\n",
       "      <td>c-6</td>\n",
       "      <td>1015</td>\n",
       "      <td>OO</td>\n",
       "      <td>DEN</td>\n",
       "      <td>MEM</td>\n",
       "      <td>872</td>\n",
       "      <td>N</td>\n",
       "    </tr>\n",
       "    <tr>\n",
       "      <th>4</th>\n",
       "      <td>c-10</td>\n",
       "      <td>c-7</td>\n",
       "      <td>c-6</td>\n",
       "      <td>1828</td>\n",
       "      <td>WN</td>\n",
       "      <td>MDW</td>\n",
       "      <td>OMA</td>\n",
       "      <td>423</td>\n",
       "      <td>Y</td>\n",
       "    </tr>\n",
       "  </tbody>\n",
       "</table>\n",
       "</div>"
      ],
      "text/plain": [
       "  Month DayofMonth DayOfWeek  DepTime UniqueCarrier Origin Dest  Distance  \\\n",
       "0   c-8       c-21       c-7     1934            AA    ATL  DFW       732   \n",
       "1   c-4       c-20       c-3     1548            US    PIT  MCO       834   \n",
       "2   c-9        c-2       c-5     1422            XE    RDU  CLE       416   \n",
       "3  c-11       c-25       c-6     1015            OO    DEN  MEM       872   \n",
       "4  c-10        c-7       c-6     1828            WN    MDW  OMA       423   \n",
       "\n",
       "  dep_delayed_15min  \n",
       "0                 N  \n",
       "1                 N  \n",
       "2                 N  \n",
       "3                 N  \n",
       "4                 Y  "
      ]
     },
     "execution_count": 9,
     "metadata": {},
     "output_type": "execute_result"
    }
   ],
   "source": [
    "train_df.head()\n"
   ]
  },
  {
   "cell_type": "markdown",
   "metadata": {
    "colab_type": "text",
    "id": "UxGBsPQhffgd"
   },
   "source": [
    "**<font color='teal'> Use the describe function to review the numeric columns in the train dataframe. </font>**\n"
   ]
  },
  {
   "cell_type": "code",
   "execution_count": 10,
   "metadata": {
    "colab": {
     "base_uri": "https://localhost:8080/",
     "height": 297
    },
    "colab_type": "code",
    "id": "_bRRKG3DAtae",
    "outputId": "7cfb9975-ec97-422c-abbd-98923a0b7aec"
   },
   "outputs": [
    {
     "data": {
      "text/html": [
       "<div>\n",
       "<style scoped>\n",
       "    .dataframe tbody tr th:only-of-type {\n",
       "        vertical-align: middle;\n",
       "    }\n",
       "\n",
       "    .dataframe tbody tr th {\n",
       "        vertical-align: top;\n",
       "    }\n",
       "\n",
       "    .dataframe thead th {\n",
       "        text-align: right;\n",
       "    }\n",
       "</style>\n",
       "<table border=\"1\" class=\"dataframe\">\n",
       "  <thead>\n",
       "    <tr style=\"text-align: right;\">\n",
       "      <th></th>\n",
       "      <th>count</th>\n",
       "      <th>mean</th>\n",
       "      <th>std</th>\n",
       "      <th>min</th>\n",
       "      <th>25%</th>\n",
       "      <th>50%</th>\n",
       "      <th>75%</th>\n",
       "      <th>max</th>\n",
       "    </tr>\n",
       "  </thead>\n",
       "  <tbody>\n",
       "    <tr>\n",
       "      <th>DepTime</th>\n",
       "      <td>100000.0</td>\n",
       "      <td>1341.52388</td>\n",
       "      <td>476.378445</td>\n",
       "      <td>1.0</td>\n",
       "      <td>931.0</td>\n",
       "      <td>1330.0</td>\n",
       "      <td>1733.0</td>\n",
       "      <td>2534.0</td>\n",
       "    </tr>\n",
       "    <tr>\n",
       "      <th>Distance</th>\n",
       "      <td>100000.0</td>\n",
       "      <td>729.39716</td>\n",
       "      <td>574.616860</td>\n",
       "      <td>30.0</td>\n",
       "      <td>317.0</td>\n",
       "      <td>575.0</td>\n",
       "      <td>957.0</td>\n",
       "      <td>4962.0</td>\n",
       "    </tr>\n",
       "  </tbody>\n",
       "</table>\n",
       "</div>"
      ],
      "text/plain": [
       "             count        mean         std   min    25%     50%     75%  \\\n",
       "DepTime   100000.0  1341.52388  476.378445   1.0  931.0  1330.0  1733.0   \n",
       "Distance  100000.0   729.39716  574.616860  30.0  317.0   575.0   957.0   \n",
       "\n",
       "             max  \n",
       "DepTime   2534.0  \n",
       "Distance  4962.0  "
      ]
     },
     "execution_count": 10,
     "metadata": {},
     "output_type": "execute_result"
    }
   ],
   "source": [
    "train_df.describe().T"
   ]
  },
  {
   "cell_type": "markdown",
   "metadata": {
    "colab_type": "text",
    "id": "i6k-_fI5Aiyh"
   },
   "source": [
    "Notice, `DepTime` is the departure time in a numeric representation in 2400 hours.\n"
   ]
  },
  {
   "cell_type": "markdown",
   "metadata": {
    "colab_type": "text",
    "id": "gtZS4-hrlQah"
   },
   "source": [
    "**<font color='teal'>The response variable is 'dep_delayed_15min' which is a categorical column, so we need to map the Y for yes and N for no values to 1 and 0. Run the code in the next cell to do this.</font>**\n"
   ]
  },
  {
   "cell_type": "code",
   "execution_count": 11,
   "metadata": {
    "ExecuteTime": {
     "end_time": "2019-04-22T15:38:42.677690Z",
     "start_time": "2019-04-22T15:38:42.481963Z"
    },
    "colab": {},
    "colab_type": "code",
    "id": "yRlOTbnW-KYc"
   },
   "outputs": [],
   "source": [
    "# train_df = train_df[train_df.DepTime <= 2400].copy()\n",
    "y_train = train_df[\"dep_delayed_15min\"].map({\"Y\": 1, \"N\": 0}).values"
   ]
  },
  {
   "cell_type": "markdown",
   "metadata": {
    "colab_type": "text",
    "id": "z3WPkFQO9uo9"
   },
   "source": [
    "## Feature Engineering\n",
    "\n",
    "Use these defined functions to create additional features for the model. Run the cell to add the functions to your workspace.\n"
   ]
  },
  {
   "cell_type": "code",
   "execution_count": 12,
   "metadata": {
    "colab": {},
    "colab_type": "code",
    "id": "cXqsqz5W9t3r"
   },
   "outputs": [],
   "source": [
    "def label_enc(df_column):\n",
    "    df_column = LabelEncoder().fit_transform(df_column)\n",
    "    return df_column\n",
    "\n",
    "\n",
    "def make_harmonic_features_sin(value, period=2400):\n",
    "    value *= 2 * np.pi / period\n",
    "    return np.sin(value)\n",
    "\n",
    "\n",
    "def make_harmonic_features_cos(value, period=2400):\n",
    "    value *= 2 * np.pi / period\n",
    "    return np.cos(value)\n",
    "\n",
    "\n",
    "def feature_eng(df):\n",
    "    df[\"flight\"] = df[\"Origin\"] + df[\"Dest\"]\n",
    "    df[\"Month\"] = df.Month.map(lambda x: x.split(\"-\")[-1]).astype(\"int32\")\n",
    "    df[\"DayofMonth\"] = df.DayofMonth.map(lambda x: x.split(\"-\")[-1]).astype(\"uint8\")\n",
    "    df[\"begin_of_month\"] = (df[\"DayofMonth\"] < 10).astype(\"uint8\")\n",
    "    df[\"midddle_of_month\"] = (\n",
    "        (df[\"DayofMonth\"] >= 10) & (df[\"DayofMonth\"] < 20)\n",
    "    ).astype(\"uint8\")\n",
    "    df[\"end_of_month\"] = (df[\"DayofMonth\"] >= 20).astype(\"uint8\")\n",
    "    df[\"DayOfWeek\"] = df.DayOfWeek.map(lambda x: x.split(\"-\")[-1]).astype(\"uint8\")\n",
    "    df[\"hour\"] = df.DepTime.map(lambda x: x / 100).astype(\"int32\")\n",
    "    df[\"morning\"] = (\n",
    "        df[\"hour\"].map(lambda x: 1 if (x <= 11) & (x >= 7) else 0).astype(\"uint8\")\n",
    "    )\n",
    "    df[\"day\"] = (\n",
    "        df[\"hour\"].map(lambda x: 1 if (x >= 12) & (x <= 18) else 0).astype(\"uint8\")\n",
    "    )\n",
    "    df[\"evening\"] = (\n",
    "        df[\"hour\"].map(lambda x: 1 if (x >= 19) & (x <= 23) else 0).astype(\"uint8\")\n",
    "    )\n",
    "    df[\"night\"] = (\n",
    "        df[\"hour\"].map(lambda x: 1 if (x >= 0) & (x <= 6) else 0).astype(\"int32\")\n",
    "    )\n",
    "    df[\"winter\"] = df[\"Month\"].map(lambda x: x in [12, 1, 2]).astype(\"int32\")\n",
    "    df[\"spring\"] = df[\"Month\"].map(lambda x: x in [3, 4, 5]).astype(\"int32\")\n",
    "    df[\"summer\"] = df[\"Month\"].map(lambda x: x in [6, 7, 8]).astype(\"int32\")\n",
    "    df[\"autumn\"] = df[\"Month\"].map(lambda x: x in [9, 10, 11]).astype(\"int32\")\n",
    "    df[\"holiday\"] = (df[\"DayOfWeek\"] >= 5).astype(int)\n",
    "    df[\"weekday\"] = (df[\"DayOfWeek\"] < 5).astype(int)\n",
    "    df[\"airport_dest_per_month\"] = df.groupby([\"Dest\", \"Month\"])[\"Dest\"].transform(\n",
    "        \"count\"\n",
    "    )\n",
    "    df[\"airport_origin_per_month\"] = df.groupby([\"Origin\", \"Month\"])[\n",
    "        \"Origin\"\n",
    "    ].transform(\"count\")\n",
    "    df[\"airport_dest_count\"] = df.groupby([\"Dest\"])[\"Dest\"].transform(\"count\")\n",
    "    df[\"airport_origin_count\"] = df.groupby([\"Origin\"])[\"Origin\"].transform(\"count\")\n",
    "    df[\"carrier_count\"] = df.groupby([\"UniqueCarrier\"])[\"Dest\"].transform(\"count\")\n",
    "    df[\"carrier_count_per month\"] = df.groupby([\"UniqueCarrier\", \"Month\"])[\n",
    "        \"Dest\"\n",
    "    ].transform(\"count\")\n",
    "    df[\"deptime_cos\"] = df[\"DepTime\"].map(make_harmonic_features_cos)\n",
    "    df[\"deptime_sin\"] = df[\"DepTime\"].map(make_harmonic_features_sin)\n",
    "    df[\"flightUC\"] = df[\"flight\"] + df[\"UniqueCarrier\"]\n",
    "    df[\"DestUC\"] = df[\"Dest\"] + df[\"UniqueCarrier\"]\n",
    "    df[\"OriginUC\"] = df[\"Origin\"] + df[\"UniqueCarrier\"]\n",
    "    return df.drop(\"DepTime\", axis=1)"
   ]
  },
  {
   "cell_type": "markdown",
   "metadata": {
    "colab_type": "text",
    "id": "-BYbxXpU-FGE"
   },
   "source": [
    "Concatenate the training and testing dataframes.\n"
   ]
  },
  {
   "cell_type": "code",
   "execution_count": 13,
   "metadata": {
    "colab": {},
    "colab_type": "code",
    "id": "Cj6bfSNw_RAf"
   },
   "outputs": [],
   "source": [
    "full_df = pd.concat([train_df.drop(\"dep_delayed_15min\", axis=1), test_df])\n",
    "full_df = feature_eng(full_df)"
   ]
  },
  {
   "cell_type": "markdown",
   "metadata": {
    "colab_type": "text",
    "id": "GSO8JbfM_W-F"
   },
   "source": [
    "Apply the earlier defined feature engineering functions to the full dataframe.\n"
   ]
  },
  {
   "cell_type": "code",
   "execution_count": 14,
   "metadata": {
    "colab": {},
    "colab_type": "code",
    "id": "x6RfAINftjwi"
   },
   "outputs": [],
   "source": [
    "for column in [\n",
    "    \"UniqueCarrier\",\n",
    "    \"Origin\",\n",
    "    \"Dest\",\n",
    "    \"flight\",\n",
    "    \"flightUC\",\n",
    "    \"DestUC\",\n",
    "    \"OriginUC\",\n",
    "]:\n",
    "    full_df[column] = label_enc(full_df[column])"
   ]
  },
  {
   "cell_type": "markdown",
   "metadata": {
    "colab_type": "text",
    "id": "IJAw1RGB_ZuM"
   },
   "source": [
    "Split the new full dataframe into X_train and X_test.\n"
   ]
  },
  {
   "cell_type": "code",
   "execution_count": 15,
   "metadata": {
    "colab": {},
    "colab_type": "code",
    "id": "15cPtQU5tjfz"
   },
   "outputs": [],
   "source": [
    "X_train = full_df[: train_df.shape[0]]\n",
    "X_test = full_df[train_df.shape[0] :]"
   ]
  },
  {
   "cell_type": "markdown",
   "metadata": {
    "colab_type": "text",
    "id": "umfAw-9JErLV"
   },
   "source": [
    "Create a list of the categorical features.\n"
   ]
  },
  {
   "cell_type": "code",
   "execution_count": 16,
   "metadata": {
    "ExecuteTime": {
     "end_time": "2019-04-22T14:31:58.412296Z",
     "start_time": "2019-04-22T14:31:58.409088Z"
    },
    "colab": {},
    "colab_type": "code",
    "id": "5ibeVyNb-KZI"
   },
   "outputs": [],
   "source": [
    "categorical_features = [\n",
    "    \"Month\",\n",
    "    \"DayOfWeek\",\n",
    "    \"UniqueCarrier\",\n",
    "    \"Origin\",\n",
    "    \"Dest\",\n",
    "    \"flight\",\n",
    "    \"flightUC\",\n",
    "    \"DestUC\",\n",
    "    \"OriginUC\",\n",
    "]"
   ]
  },
  {
   "cell_type": "markdown",
   "metadata": {
    "colab_type": "text",
    "id": "NzMIsMPIETVk"
   },
   "source": [
    "Let's build a light GBM model to test the bayesian optimizer.\n"
   ]
  },
  {
   "cell_type": "markdown",
   "metadata": {
    "ExecuteTime": {
     "end_time": "2019-04-22T15:18:04.466965Z",
     "start_time": "2019-04-22T15:18:04.457992Z"
    },
    "colab_type": "text",
    "id": "2hfm1i5G-KZH"
   },
   "source": [
    "### [LightGBM](https://lightgbm.readthedocs.io/en/latest/) is a gradient boosting framework that uses tree-based learning algorithms. It is designed to be distributed and efficient with the following advantages:\n",
    "\n",
    "- Faster training speed and higher efficiency.\n",
    "- Lower memory usage.\n",
    "- Better accuracy.\n",
    "- Support of parallel and GPU learning.\n",
    "- Capable of handling large-scale data.\n"
   ]
  },
  {
   "cell_type": "markdown",
   "metadata": {
    "colab_type": "text",
    "id": "jf-3F2Wg-KZL"
   },
   "source": [
    "First, we define the function we want to maximize and that will count cross-validation metrics of lightGBM for our parameters.\n",
    "\n",
    "Some params such as num_leaves, max_depth, min_child_samples, min_data_in_leaf should be integers.\n"
   ]
  },
  {
   "cell_type": "code",
   "execution_count": 17,
   "metadata": {
    "ExecuteTime": {
     "end_time": "2019-04-22T15:40:14.034265Z",
     "start_time": "2019-04-22T15:40:14.027868Z"
    },
    "colab": {},
    "colab_type": "code",
    "id": "LyUJBhGX-KZM"
   },
   "outputs": [],
   "source": [
    "def lgb_eval(\n",
    "    num_leaves, max_depth, lambda_l2, lambda_l1, min_child_samples, min_data_in_leaf\n",
    "):\n",
    "    params = {\n",
    "        \"objective\": \"binary\",\n",
    "        \"metric\": \"auc\",\n",
    "        \"is_unbalance\": True,\n",
    "        \"num_leaves\": int(num_leaves),\n",
    "        \"max_depth\": int(max_depth),\n",
    "        \"lambda_l2\": lambda_l2,\n",
    "        \"lambda_l1\": lambda_l1,\n",
    "        \"num_threads\": 20,\n",
    "        \"min_child_samples\": int(min_child_samples),\n",
    "        \"min_data_in_leaf\": int(min_data_in_leaf),\n",
    "        \"learning_rate\": 0.03,\n",
    "        \"subsample_freq\": 5,\n",
    "        \"bagging_seed\": 42,\n",
    "        \"verbosity\": -1,\n",
    "    }\n",
    "    lgtrain = lightgbm.Dataset(\n",
    "        X_train, y_train, categorical_feature=categorical_features\n",
    "    )\n",
    "    cv_result = lightgbm.cv(\n",
    "        params, lgtrain, 1000, early_stopping_rounds=100, stratified=True, nfold=3\n",
    "    )\n",
    "    return cv_result[\"auc-mean\"][-1]"
   ]
  },
  {
   "cell_type": "markdown",
   "metadata": {
    "colab_type": "text",
    "id": "FJwqBhdeF11Q"
   },
   "source": [
    "Apply the Bayesian optimizer to the function we created in the previous step to identify the best hyperparameters. We will run 10 iterations and set init_points = 2.\n"
   ]
  },
  {
   "cell_type": "code",
   "execution_count": 18,
   "metadata": {
    "ExecuteTime": {
     "end_time": "2019-04-22T15:48:04.682447Z",
     "start_time": "2019-04-22T15:40:14.641634Z"
    },
    "colab": {
     "base_uri": "https://localhost:8080/",
     "height": 51
    },
    "colab_type": "code",
    "id": "JheCOkUE-KZP",
    "outputId": "8f37ee51-885d-44e4-cdcd-ceb7abd58b61"
   },
   "outputs": [
    {
     "name": "stdout",
     "output_type": "stream",
     "text": [
      "|   iter    |  target   | lambda_l1 | lambda_l2 | max_depth | min_ch... | min_da... | num_le... |\n",
      "-------------------------------------------------------------------------------------------------\n",
      "[LightGBM] [Warning] min_data_in_leaf is set=1006, min_child_samples=529 will be ignored. Current value: min_data_in_leaf=1006\n",
      "| \u001b[0m1        \u001b[0m | \u001b[0m0.7335   \u001b[0m | \u001b[0m0.04309  \u001b[0m | \u001b[0m0.005191 \u001b[0m | \u001b[0m53.61    \u001b[0m | \u001b[0m530.0    \u001b[0m | \u001b[0m1.007e+03\u001b[0m | \u001b[0m160.8    \u001b[0m |\n",
      "| \u001b[95m2        \u001b[0m | \u001b[95m0.7433   \u001b[0m | \u001b[95m0.01598  \u001b[0m | \u001b[95m0.01444  \u001b[0m | \u001b[95m59.1     \u001b[0m | \u001b[95m421.5    \u001b[0m | \u001b[95m1.694e+03\u001b[0m | \u001b[95m3.494e+03\u001b[0m |\n",
      "| \u001b[0m3        \u001b[0m | \u001b[0m0.7429   \u001b[0m | \u001b[0m0.04692  \u001b[0m | \u001b[0m0.01904  \u001b[0m | \u001b[0m16.1     \u001b[0m | \u001b[0m701.9    \u001b[0m | \u001b[0m1.238e+03\u001b[0m | \u001b[0m2.077e+03\u001b[0m |\n",
      "| \u001b[95m4        \u001b[0m | \u001b[95m0.7439   \u001b[0m | \u001b[95m0.01739  \u001b[0m | \u001b[95m0.02822  \u001b[0m | \u001b[95m12.49    \u001b[0m | \u001b[95m571.7    \u001b[0m | \u001b[95m1.939e+03\u001b[0m | \u001b[95m994.4    \u001b[0m |\n",
      "| \u001b[0m5        \u001b[0m | \u001b[0m0.7433   \u001b[0m | \u001b[0m0.0254   \u001b[0m | \u001b[0m0.03595  \u001b[0m | \u001b[0m15.64    \u001b[0m | \u001b[0m50.36    \u001b[0m | \u001b[0m1.781e+03\u001b[0m | \u001b[0m1.58e+03 \u001b[0m |\n",
      "| \u001b[0m6        \u001b[0m | \u001b[0m0.7432   \u001b[0m | \u001b[0m0.03968  \u001b[0m | \u001b[0m0.02263  \u001b[0m | \u001b[0m33.39    \u001b[0m | \u001b[0m245.8    \u001b[0m | \u001b[0m1.461e+03\u001b[0m | \u001b[0m2.479e+03\u001b[0m |\n",
      "| \u001b[0m7        \u001b[0m | \u001b[0m0.7434   \u001b[0m | \u001b[0m0.01444  \u001b[0m | \u001b[0m0.03585  \u001b[0m | \u001b[0m55.04    \u001b[0m | \u001b[0m415.7    \u001b[0m | \u001b[0m1.938e+03\u001b[0m | \u001b[0m1.026e+03\u001b[0m |\n",
      "| \u001b[0m8        \u001b[0m | \u001b[0m0.7436   \u001b[0m | \u001b[0m0.03601  \u001b[0m | \u001b[0m0.04635  \u001b[0m | \u001b[0m50.9     \u001b[0m | \u001b[0m359.4    \u001b[0m | \u001b[0m1.917e+03\u001b[0m | \u001b[0m2.242e+03\u001b[0m |\n",
      "| \u001b[0m9        \u001b[0m | \u001b[0m0.7223   \u001b[0m | \u001b[0m0.007736 \u001b[0m | \u001b[0m0.03078  \u001b[0m | \u001b[0m44.39    \u001b[0m | \u001b[0m75.14    \u001b[0m | \u001b[0m128.1    \u001b[0m | \u001b[0m3.988e+03\u001b[0m |\n",
      "| \u001b[0m10       \u001b[0m | \u001b[0m0.7438   \u001b[0m | \u001b[0m0.01902  \u001b[0m | \u001b[0m0.0287   \u001b[0m | \u001b[0m35.01    \u001b[0m | \u001b[0m995.6    \u001b[0m | \u001b[0m1.98e+03 \u001b[0m | \u001b[0m2.995e+03\u001b[0m |\n",
      "| \u001b[0m11       \u001b[0m | \u001b[0m0.7437   \u001b[0m | \u001b[0m0.003088 \u001b[0m | \u001b[0m0.01166  \u001b[0m | \u001b[0m21.53    \u001b[0m | \u001b[0m989.4    \u001b[0m | \u001b[0m2e+03    \u001b[0m | \u001b[0m3.947e+03\u001b[0m |\n",
      "| \u001b[0m12       \u001b[0m | \u001b[0m0.7235   \u001b[0m | \u001b[0m0.04908  \u001b[0m | \u001b[0m0.0366   \u001b[0m | \u001b[0m22.56    \u001b[0m | \u001b[0m939.8    \u001b[0m | \u001b[0m100.7    \u001b[0m | \u001b[0m1.683e+03\u001b[0m |\n",
      "=================================================================================================\n"
     ]
    }
   ],
   "source": [
    "lgbBO = BayesianOptimization(\n",
    "    lgb_eval,\n",
    "    {\n",
    "        \"num_leaves\": (25, 4000),\n",
    "        \"max_depth\": (5, 63),\n",
    "        \"lambda_l2\": (0.0, 0.05),\n",
    "        \"lambda_l1\": (0.0, 0.05),\n",
    "        \"min_child_samples\": (50, 1000),\n",
    "        \"min_data_in_leaf\": (100, 2000),\n",
    "    },\n",
    ")\n",
    "\n",
    "lgbBO.maximize(n_iter=10, init_points=2)"
   ]
  },
  {
   "cell_type": "markdown",
   "metadata": {
    "colab_type": "text",
    "id": "rdkxhhST-KZS"
   },
   "source": [
    "**<font color='teal'> Print the best result by using the '.max' function.</font>**\n"
   ]
  },
  {
   "cell_type": "code",
   "execution_count": 19,
   "metadata": {
    "ExecuteTime": {
     "end_time": "2019-04-22T15:49:01.513767Z",
     "start_time": "2019-04-22T15:49:01.509392Z"
    },
    "colab": {},
    "colab_type": "code",
    "id": "oc8z6mfy-KZS"
   },
   "outputs": [
    {
     "data": {
      "text/plain": [
       "{'target': 0.7439109967620198,\n",
       " 'params': {'lambda_l1': 0.017386232397267744,\n",
       "  'lambda_l2': 0.028219468466145738,\n",
       "  'max_depth': 12.492627634789061,\n",
       "  'min_child_samples': 571.7216512656624,\n",
       "  'min_data_in_leaf': 1939.103490337107,\n",
       "  'num_leaves': 994.4419725168341}}"
      ]
     },
     "execution_count": 19,
     "metadata": {},
     "output_type": "execute_result"
    }
   ],
   "source": [
    "lgbBO.max"
   ]
  },
  {
   "cell_type": "code",
   "execution_count": 20,
   "metadata": {
    "ExecuteTime": {
     "end_time": "2019-04-22T15:51:01.001688Z",
     "start_time": "2019-04-22T15:51:00.997484Z"
    },
    "colab": {},
    "colab_type": "code",
    "id": "X1ttZmrI-KZX"
   },
   "outputs": [
    {
     "name": "stdout",
     "output_type": "stream",
     "text": [
      "Max AUC param values:\n",
      "{'lambda_l1': 0.017386232397267744, 'lambda_l2': 0.028219468466145738, 'max_depth': 12.492627634789061, 'min_child_samples': 571.7216512656624, 'min_data_in_leaf': 1939.103490337107, 'num_leaves': 994.4419725168341}\n",
      "Max AUC Score:\n",
      "0.7439\n"
     ]
    }
   ],
   "source": [
    "print(f\"Max AUC param values:\\n{lgbBO.max['params']}\")\n",
    "print(f\"Max AUC Score:\\n{lgbBO.max['target']:.4f}\") "
   ]
  },
  {
   "cell_type": "markdown",
   "metadata": {
    "ExecuteTime": {
     "end_time": "2019-04-22T15:50:29.049881Z",
     "start_time": "2019-04-22T15:50:29.045908Z"
    },
    "colab_type": "text",
    "id": "J5LAydKC-KZW"
   },
   "source": [
    "Review the process at each step by using the '.res[0]' function.\n"
   ]
  },
  {
   "cell_type": "code",
   "execution_count": 21,
   "metadata": {},
   "outputs": [
    {
     "data": {
      "text/plain": [
       "{'target': 0.7334606840587,\n",
       " 'params': {'lambda_l1': 0.04308867286403459,\n",
       "  'lambda_l2': 0.005190522763888839,\n",
       "  'max_depth': 53.61050663545995,\n",
       "  'min_child_samples': 529.9791235785499,\n",
       "  'min_data_in_leaf': 1006.7439078257514,\n",
       "  'num_leaves': 160.8120322435672}}"
      ]
     },
     "execution_count": 21,
     "metadata": {},
     "output_type": "execute_result"
    }
   ],
   "source": [
    "lgbBO.res[0]"
   ]
  },
  {
   "cell_type": "code",
   "execution_count": 22,
   "metadata": {},
   "outputs": [
    {
     "data": {
      "text/html": [
       "<div>\n",
       "<style scoped>\n",
       "    .dataframe tbody tr th:only-of-type {\n",
       "        vertical-align: middle;\n",
       "    }\n",
       "\n",
       "    .dataframe tbody tr th {\n",
       "        vertical-align: top;\n",
       "    }\n",
       "\n",
       "    .dataframe thead th {\n",
       "        text-align: right;\n",
       "    }\n",
       "</style>\n",
       "<table border=\"1\" class=\"dataframe\">\n",
       "  <thead>\n",
       "    <tr style=\"text-align: right;\">\n",
       "      <th></th>\n",
       "      <th>lambda_l1</th>\n",
       "      <th>lambda_l2</th>\n",
       "      <th>max_depth</th>\n",
       "      <th>min_child_samples</th>\n",
       "      <th>min_data_in_leaf</th>\n",
       "      <th>num_leaves</th>\n",
       "      <th>target</th>\n",
       "    </tr>\n",
       "  </thead>\n",
       "  <tbody>\n",
       "    <tr>\n",
       "      <th>3</th>\n",
       "      <td>0.017386</td>\n",
       "      <td>0.028219</td>\n",
       "      <td>12.492628</td>\n",
       "      <td>571.721651</td>\n",
       "      <td>1939.103490</td>\n",
       "      <td>994.441973</td>\n",
       "      <td>0.743911</td>\n",
       "    </tr>\n",
       "    <tr>\n",
       "      <th>9</th>\n",
       "      <td>0.019020</td>\n",
       "      <td>0.028699</td>\n",
       "      <td>35.012851</td>\n",
       "      <td>995.593673</td>\n",
       "      <td>1979.814942</td>\n",
       "      <td>2994.882389</td>\n",
       "      <td>0.743774</td>\n",
       "    </tr>\n",
       "    <tr>\n",
       "      <th>10</th>\n",
       "      <td>0.003088</td>\n",
       "      <td>0.011664</td>\n",
       "      <td>21.527088</td>\n",
       "      <td>989.423573</td>\n",
       "      <td>1999.603325</td>\n",
       "      <td>3947.078669</td>\n",
       "      <td>0.743717</td>\n",
       "    </tr>\n",
       "    <tr>\n",
       "      <th>7</th>\n",
       "      <td>0.036010</td>\n",
       "      <td>0.046351</td>\n",
       "      <td>50.903036</td>\n",
       "      <td>359.350646</td>\n",
       "      <td>1917.209085</td>\n",
       "      <td>2242.347262</td>\n",
       "      <td>0.743569</td>\n",
       "    </tr>\n",
       "    <tr>\n",
       "      <th>6</th>\n",
       "      <td>0.014436</td>\n",
       "      <td>0.035848</td>\n",
       "      <td>55.043149</td>\n",
       "      <td>415.677274</td>\n",
       "      <td>1938.135280</td>\n",
       "      <td>1026.450761</td>\n",
       "      <td>0.743351</td>\n",
       "    </tr>\n",
       "    <tr>\n",
       "      <th>4</th>\n",
       "      <td>0.025399</td>\n",
       "      <td>0.035954</td>\n",
       "      <td>15.641193</td>\n",
       "      <td>50.361626</td>\n",
       "      <td>1780.894661</td>\n",
       "      <td>1580.383752</td>\n",
       "      <td>0.743331</td>\n",
       "    </tr>\n",
       "    <tr>\n",
       "      <th>1</th>\n",
       "      <td>0.015980</td>\n",
       "      <td>0.014439</td>\n",
       "      <td>59.103980</td>\n",
       "      <td>421.454558</td>\n",
       "      <td>1694.023997</td>\n",
       "      <td>3493.805245</td>\n",
       "      <td>0.743294</td>\n",
       "    </tr>\n",
       "    <tr>\n",
       "      <th>5</th>\n",
       "      <td>0.039676</td>\n",
       "      <td>0.022627</td>\n",
       "      <td>33.394772</td>\n",
       "      <td>245.768917</td>\n",
       "      <td>1461.357264</td>\n",
       "      <td>2479.170030</td>\n",
       "      <td>0.743234</td>\n",
       "    </tr>\n",
       "    <tr>\n",
       "      <th>2</th>\n",
       "      <td>0.046924</td>\n",
       "      <td>0.019037</td>\n",
       "      <td>16.095897</td>\n",
       "      <td>701.913841</td>\n",
       "      <td>1237.979882</td>\n",
       "      <td>2077.120100</td>\n",
       "      <td>0.742938</td>\n",
       "    </tr>\n",
       "    <tr>\n",
       "      <th>0</th>\n",
       "      <td>0.043089</td>\n",
       "      <td>0.005191</td>\n",
       "      <td>53.610507</td>\n",
       "      <td>529.979124</td>\n",
       "      <td>1006.743908</td>\n",
       "      <td>160.812032</td>\n",
       "      <td>0.733461</td>\n",
       "    </tr>\n",
       "    <tr>\n",
       "      <th>11</th>\n",
       "      <td>0.049078</td>\n",
       "      <td>0.036600</td>\n",
       "      <td>22.563482</td>\n",
       "      <td>939.774167</td>\n",
       "      <td>100.731648</td>\n",
       "      <td>1682.862056</td>\n",
       "      <td>0.723501</td>\n",
       "    </tr>\n",
       "    <tr>\n",
       "      <th>8</th>\n",
       "      <td>0.007736</td>\n",
       "      <td>0.030783</td>\n",
       "      <td>44.387499</td>\n",
       "      <td>75.144048</td>\n",
       "      <td>128.141978</td>\n",
       "      <td>3988.286692</td>\n",
       "      <td>0.722255</td>\n",
       "    </tr>\n",
       "  </tbody>\n",
       "</table>\n",
       "</div>"
      ],
      "text/plain": [
       "    lambda_l1  lambda_l2  max_depth  min_child_samples  min_data_in_leaf  \\\n",
       "3    0.017386   0.028219  12.492628         571.721651       1939.103490   \n",
       "9    0.019020   0.028699  35.012851         995.593673       1979.814942   \n",
       "10   0.003088   0.011664  21.527088         989.423573       1999.603325   \n",
       "7    0.036010   0.046351  50.903036         359.350646       1917.209085   \n",
       "6    0.014436   0.035848  55.043149         415.677274       1938.135280   \n",
       "4    0.025399   0.035954  15.641193          50.361626       1780.894661   \n",
       "1    0.015980   0.014439  59.103980         421.454558       1694.023997   \n",
       "5    0.039676   0.022627  33.394772         245.768917       1461.357264   \n",
       "2    0.046924   0.019037  16.095897         701.913841       1237.979882   \n",
       "0    0.043089   0.005191  53.610507         529.979124       1006.743908   \n",
       "11   0.049078   0.036600  22.563482         939.774167        100.731648   \n",
       "8    0.007736   0.030783  44.387499          75.144048        128.141978   \n",
       "\n",
       "     num_leaves    target  \n",
       "3    994.441973  0.743911  \n",
       "9   2994.882389  0.743774  \n",
       "10  3947.078669  0.743717  \n",
       "7   2242.347262  0.743569  \n",
       "6   1026.450761  0.743351  \n",
       "4   1580.383752  0.743331  \n",
       "1   3493.805245  0.743294  \n",
       "5   2479.170030  0.743234  \n",
       "2   2077.120100  0.742938  \n",
       "0    160.812032  0.733461  \n",
       "11  1682.862056  0.723501  \n",
       "8   3988.286692  0.722255  "
      ]
     },
     "metadata": {},
     "output_type": "display_data"
    },
    {
     "data": {
      "text/plain": [
       "{'lambda_l1': 0.017386232397267744,\n",
       " 'lambda_l2': 0.028219468466145738,\n",
       " 'max_depth': 12,\n",
       " 'min_child_samples': 571,\n",
       " 'min_data_in_leaf': 1939,\n",
       " 'num_leaves': 994}"
      ]
     },
     "metadata": {},
     "output_type": "display_data"
    }
   ],
   "source": [
    "\n",
    "targets = [lgbBO.res[i][\"target\"] for i in range(len(lgbBO.res))]\n",
    "df = pd.DataFrame()\n",
    "for i in range(len(lgbBO.res)):\n",
    "    df = pd.concat([df, pd.DataFrame(lgbBO.res[i][\"params\"], index=[i])])\n",
    "\n",
    "df[\"target\"] = targets\n",
    "# display dataframe of the results\n",
    "display(df.sort_values(\"target\", ascending=False))\n",
    "\n",
    "# get the param values with the best score\n",
    "max_params = df.sort_values(\"target\", ascending=False).iloc[0, :-1].to_dict()\n",
    "\n",
    "# ensure interger columns have integer type values\n",
    "interger_columns = [\"num_leaves\", \"max_depth\", \"min_child_samples\", \"min_data_in_leaf\"]\n",
    "for col in interger_columns:\n",
    "    max_params[col] = int(max_params[col])\n",
    "\n",
    "display(max_params)"
   ]
  },
  {
   "cell_type": "code",
   "execution_count": 23,
   "metadata": {},
   "outputs": [
    {
     "data": {
      "text/plain": [
       "{'lambda_l1': 0.017386232397267744,\n",
       " 'lambda_l2': 0.028219468466145738,\n",
       " 'max_depth': 12,\n",
       " 'min_child_samples': 571,\n",
       " 'min_data_in_leaf': 1939,\n",
       " 'num_leaves': 994,\n",
       " 'objective': 'binary',\n",
       " 'metric': 'auc',\n",
       " 'is_unbalance': True,\n",
       " 'verbosity': -1}"
      ]
     },
     "execution_count": 23,
     "metadata": {},
     "output_type": "execute_result"
    }
   ],
   "source": [
    "base_params = {\n",
    "    \"objective\": \"binary\",\n",
    "    \"metric\": \"auc\",\n",
    "    \"is_unbalance\": True,\n",
    "    \"verbosity\": -1,\n",
    "\n",
    "}\n",
    "\n",
    "max_params |= base_params\n",
    "max_params"
   ]
  },
  {
   "cell_type": "code",
   "execution_count": 24,
   "metadata": {},
   "outputs": [],
   "source": [
    "\n",
    "lgtrain = lightgbm.Dataset(X_train, y_train, categorical_feature=categorical_features)\n",
    "\n",
    "results = lightgbm.cv(\n",
    "    max_params, lgtrain, 1000, early_stopping_rounds=100, stratified=True, nfold=5\n",
    ")"
   ]
  },
  {
   "cell_type": "code",
   "execution_count": 25,
   "metadata": {},
   "outputs": [
    {
     "data": {
      "text/plain": [
       "376"
      ]
     },
     "metadata": {},
     "output_type": "display_data"
    },
    {
     "data": {
      "text/plain": [
       "0.746"
      ]
     },
     "execution_count": 25,
     "metadata": {},
     "output_type": "execute_result"
    }
   ],
   "source": [
    "display(len(results[\"auc-mean\"]))\n",
    "results[\"auc-mean\"][-1].round(3)"
   ]
  }
 ],
 "metadata": {
  "colab": {
   "name": "Bayesian_optimization_exercise.ipynb",
   "provenance": []
  },
  "deepnote_execution_queue": [],
  "kernelspec": {
   "display_name": "Python 3",
   "language": "python",
   "name": "python3"
  },
  "language_info": {
   "codemirror_mode": {
    "name": "ipython",
    "version": 3
   },
   "file_extension": ".py",
   "mimetype": "text/x-python",
   "name": "python",
   "nbconvert_exporter": "python",
   "pygments_lexer": "ipython3",
   "version": "3.10.11"
  },
  "varInspector": {
   "cols": {
    "lenName": 16,
    "lenType": 16,
    "lenVar": 40
   },
   "kernels_config": {
    "python": {
     "delete_cmd_postfix": "",
     "delete_cmd_prefix": "del ",
     "library": "var_list.py",
     "varRefreshCmd": "print(var_dic_list())"
    },
    "r": {
     "delete_cmd_postfix": ") ",
     "delete_cmd_prefix": "rm(",
     "library": "var_list.r",
     "varRefreshCmd": "cat(var_dic_list()) "
    }
   },
   "types_to_exclude": [
    "module",
    "function",
    "builtin_function_or_method",
    "instance",
    "_Feature"
   ],
   "window_display": false
  }
 },
 "nbformat": 4,
 "nbformat_minor": 1
}
