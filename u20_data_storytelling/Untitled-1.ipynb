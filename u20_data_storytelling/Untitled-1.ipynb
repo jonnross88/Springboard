{
 "cells": [
  {
   "cell_type": "markdown",
   "metadata": {},
   "source": [
    "#### Network X trial"
   ]
  },
  {
   "cell_type": "code",
   "execution_count": null,
   "metadata": {},
   "outputs": [],
   "source": [
    "sample = akc_breeds_df.sample(15)"
   ]
  },
  {
   "cell_type": "code",
   "execution_count": null,
   "metadata": {},
   "outputs": [],
   "source": [
    "def get_nodes_from_patition(G, partition):\n",
    "    return {n for n, d in G.nodes(data=True) if d[\"bipartite\"] == partition}"
   ]
  },
  {
   "cell_type": "code",
   "execution_count": null,
   "metadata": {},
   "outputs": [],
   "source": [
    "# create a graph object\n",
    "B = nx.Graph()\n",
    "\n",
    "# add nodes for each breed and breed group\n",
    "B.add_nodes_from(sample[\"breed_group\"], bipartite=\"breed_group\")\n",
    "B.add_nodes_from(sample[\"breeds\"], bipartite=\"breeds\")\n",
    "\n",
    "B = nx.from_pandas_edgelist(sample, \"breed_group\", \"breeds\")\n",
    "\n",
    "\n",
    "# print the number of nodes and edges in the graph\n",
    "print(\"Number of nodes:\", len(B.nodes()))\n",
    "print(\"Number of edges:\", len(B.edges()))\n",
    "\n",
    "B.nodes(data=True), B.edges(data=True)"
   ]
  },
  {
   "cell_type": "code",
   "execution_count": null,
   "metadata": {},
   "outputs": [],
   "source": [
    "# filtering the graph to only include the breed nodes\n",
    "# breed_nodes = {n for n, d in B.nodes(data=True) if d[\"bipartite\"] == \"breeds\"}\n",
    "breed_nodes = get_nodes_from_patition(B, \"breeds\")\n",
    "\n",
    "# degree centrality\n",
    "degree_centrality = nx.bipartite.degree_centrality(B, breed_nodes)\n",
    "degree_centrality"
   ]
  }
 ],
 "metadata": {
  "language_info": {
   "name": "python"
  }
 },
 "nbformat": 4,
 "nbformat_minor": 2
}
