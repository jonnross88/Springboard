# Get the model predictions for the test data
y_pred = model.predict(X_test)

# Convert the predictions to binary values (0 or 1)
y_pred_binary = [1 if pred >= 0.5 else 0 for pred in y_pred]

# Create a list to store the correct predictions
correct_predictions = []

# Create a list to store the incorrect predictions
incorrect_predictions = []

# Iterate over the test data and compare the predictions with the actual labels
for i in range(len(y_test)):
    if y_pred_binary[i] == y_test[i]:
        correct_predictions.append(i)
    else:
        incorrect_predictions.append(i)

# Print the indices of the correct predictions
print("Indices of correct predictions:")
print(correct_predictions)

# Print the indices of the incorrect predictions
print("Indices of incorrect predictions:")
print(incorrect_predictions)