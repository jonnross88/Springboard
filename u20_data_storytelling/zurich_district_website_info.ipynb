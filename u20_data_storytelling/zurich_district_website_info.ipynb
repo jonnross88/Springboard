{
 "cells": [
  {
   "cell_type": "code",
   "execution_count": 59,
   "metadata": {},
   "outputs": [],
   "source": [
    "from bs4 import BeautifulSoup\n",
    "from urllib.request import urlopen\n",
    "\n",
    "import re\n",
    "import pandas as pd"
   ]
  },
  {
   "cell_type": "code",
   "execution_count": 60,
   "metadata": {},
   "outputs": [],
   "source": [
    "# save the url of the website\n",
    "zurich_districts_url = \"https://www.zuerich.com/en/visit/about-zurich/zurichs-districts\"\n",
    "\n",
    "# get the html content of the website\n",
    "response = urlopen(zurich_districts_url)\n",
    "html_content = response.read()"
   ]
  },
  {
   "cell_type": "code",
   "execution_count": 61,
   "metadata": {},
   "outputs": [],
   "source": [
    "# parse the html content\n",
    "soup = BeautifulSoup(html_content, \"lxml\")"
   ]
  },
  {
   "cell_type": "code",
   "execution_count": 62,
   "metadata": {},
   "outputs": [],
   "source": [
    "# select all elements with id starting with 's-' and a number between 1 and 12\n",
    "pattern = re.compile(r\"s-[1-9]|s-1[0-2]\")\n",
    "elements = soup.find_all(id=pattern)"
   ]
  },
  {
   "cell_type": "code",
   "execution_count": 63,
   "metadata": {},
   "outputs": [
    {
     "name": "stdout",
     "output_type": "stream",
     "text": [
      "   district_number                    district_name  \\\n",
      "0       District 1            Old Town, City Center   \n",
      "1       District 2           Left Shore of the Lake   \n",
      "2       District 3     Creative Quarter of Wiedikon   \n",
      "3       District 4  Creative Quarter of Langstrasse   \n",
      "4       District 5  Creative Quarter of Zürich-West   \n",
      "5       District 6               University Quarter   \n",
      "6       District 7                On the Zürichberg   \n",
      "7       District 8          Right Shore of the Lake   \n",
      "8       District 9     At the Foot of the Uetliberg   \n",
      "9      District 10              Right of the Limmat   \n",
      "10     District 11                      Zürich Nord   \n",
      "11     District 12                   Schwamendingen   \n",
      "\n",
      "                                                 desc  desc_length  \n",
      "0   The most central district encompasses the hist...          355  \n",
      "1   The architecturally attractive Enge Train Stat...          206  \n",
      "2   Once mainly a working-class neighborhood, the ...          215  \n",
      "3   The district around Langstrasse was long regar...          199  \n",
      "4   In the quarter where huge machines once clatte...          287  \n",
      "5   University buildings, Jugendstil villas, green...          222  \n",
      "6   The hillside location, little traffic, and fab...          169  \n",
      "7   This district starts behind the Opera House an...          231  \n",
      "8   For a long time, this district was solely know...          203  \n",
      "9   This district boasts a fantastic location: in ...          224  \n",
      "10  The close vicinity to the airport, the Hallens...          241  \n",
      "11  Schwamendingen, with its many green areas, lie...          298  \n"
     ]
    }
   ],
   "source": [
    "# create a dataframe with the information of the districts\n",
    "districts = {element.find(\"h2\").text: element.find(\"p\").text for element in elements}\n",
    "districts_df = pd.DataFrame.from_dict(districts, orient=\"index\", columns=[\"desc\"])\n",
    "\n",
    "\n",
    "# make the index into a column and split it into district number and district name\n",
    "districts_df = districts_df.reset_index()\n",
    "districts_df = (\n",
    "    districts_df[\"index\"]\n",
    "    .str.split(\"–\", expand=True)\n",
    "    .rename({0: \"district_number\", 1: \"district_name\"}, axis=1)\n",
    "    .join(districts_df)\n",
    "    .drop(\"index\", axis=1)\n",
    ")\n",
    "# strip the whitespace from the columns\n",
    "districts_df[\"district_number\"] = districts_df[\"district_number\"].str.strip()\n",
    "districts_df[\"district_name\"] = districts_df[\"district_name\"].str.strip()\n",
    "districts_df[\"desc\"] = districts_df[\"desc\"].str.strip()\n",
    "\n",
    "# Add column for the length of the desc\n",
    "districts_df[\"desc_length\"] = districts_df[\"desc\"].str.len()\n",
    "print(districts_df)"
   ]
  },
  {
   "cell_type": "code",
   "execution_count": 64,
   "metadata": {},
   "outputs": [
    {
     "data": {
      "text/html": [
       "<style type=\"text/css\">\n",
       "#T_ed874_row0_col0, #T_ed874_row0_col1, #T_ed874_row0_col2, #T_ed874_row0_col3, #T_ed874_row1_col0, #T_ed874_row1_col1, #T_ed874_row1_col2, #T_ed874_row1_col3, #T_ed874_row2_col0, #T_ed874_row2_col1, #T_ed874_row2_col2, #T_ed874_row2_col3, #T_ed874_row3_col0, #T_ed874_row3_col1, #T_ed874_row3_col2, #T_ed874_row3_col3, #T_ed874_row4_col0, #T_ed874_row4_col1, #T_ed874_row4_col2, #T_ed874_row4_col3, #T_ed874_row5_col0, #T_ed874_row5_col1, #T_ed874_row5_col2, #T_ed874_row5_col3, #T_ed874_row6_col0, #T_ed874_row6_col1, #T_ed874_row6_col2, #T_ed874_row6_col3, #T_ed874_row7_col0, #T_ed874_row7_col1, #T_ed874_row7_col2, #T_ed874_row7_col3, #T_ed874_row8_col0, #T_ed874_row8_col1, #T_ed874_row8_col2, #T_ed874_row8_col3, #T_ed874_row9_col0, #T_ed874_row9_col1, #T_ed874_row9_col2, #T_ed874_row9_col3, #T_ed874_row10_col0, #T_ed874_row10_col1, #T_ed874_row10_col2, #T_ed874_row10_col3, #T_ed874_row11_col0, #T_ed874_row11_col1, #T_ed874_row11_col2, #T_ed874_row11_col3 {\n",
       "  white-space: pre-wrap;\n",
       "}\n",
       "</style>\n",
       "<table id=\"T_ed874\">\n",
       "  <thead>\n",
       "    <tr>\n",
       "      <th class=\"blank level0\" >&nbsp;</th>\n",
       "      <th id=\"T_ed874_level0_col0\" class=\"col_heading level0 col0\" >district_number</th>\n",
       "      <th id=\"T_ed874_level0_col1\" class=\"col_heading level0 col1\" >district_name</th>\n",
       "      <th id=\"T_ed874_level0_col2\" class=\"col_heading level0 col2\" >desc</th>\n",
       "      <th id=\"T_ed874_level0_col3\" class=\"col_heading level0 col3\" >desc_length</th>\n",
       "    </tr>\n",
       "  </thead>\n",
       "  <tbody>\n",
       "    <tr>\n",
       "      <th id=\"T_ed874_level0_row0\" class=\"row_heading level0 row0\" >0</th>\n",
       "      <td id=\"T_ed874_row0_col0\" class=\"data row0 col0\" >District 1</td>\n",
       "      <td id=\"T_ed874_row0_col1\" class=\"data row0 col1\" >Old Town, City Center</td>\n",
       "      <td id=\"T_ed874_row0_col2\" class=\"data row0 col2\" >The most central district encompasses the historical Old Town on both banks of the River Limmat, as well as the area to the south bordering on the lake basin. It is home to the prestigious Bahnhofstrasse, magnificent guild houses, imposing churches, and the famous Opera House. The best view of District 1 is to be had from the top of the Karlsturm tower.</td>\n",
       "      <td id=\"T_ed874_row0_col3\" class=\"data row0 col3\" >355</td>\n",
       "    </tr>\n",
       "    <tr>\n",
       "      <th id=\"T_ed874_level0_row1\" class=\"row_heading level0 row1\" >1</th>\n",
       "      <td id=\"T_ed874_row1_col0\" class=\"data row1 col0\" >District 2</td>\n",
       "      <td id=\"T_ed874_row1_col1\" class=\"data row1 col1\" >Left Shore of the Lake</td>\n",
       "      <td id=\"T_ed874_row1_col2\" class=\"data row1 col2\" >The architecturally attractive Enge Train Station built out of Ticino granite, the Museum Rietberg with its beautiful park, the Seebad Enge lido, and the Rote Fabrik give this district a Mediterranean feel.</td>\n",
       "      <td id=\"T_ed874_row1_col3\" class=\"data row1 col3\" >206</td>\n",
       "    </tr>\n",
       "    <tr>\n",
       "      <th id=\"T_ed874_level0_row2\" class=\"row_heading level0 row2\" >2</th>\n",
       "      <td id=\"T_ed874_row2_col0\" class=\"data row2 col0\" >District 3</td>\n",
       "      <td id=\"T_ed874_row2_col1\" class=\"data row2 col1\" >Creative Quarter of Wiedikon</td>\n",
       "      <td id=\"T_ed874_row2_col2\" class=\"data row2 col2\" >Once mainly a working-class neighborhood, the district below the Uetliberg is now a popular residential area with cozy cafés, boutiques, and vintage stores. The Houdini movie theater also lies on Wiedikon territory.</td>\n",
       "      <td id=\"T_ed874_row2_col3\" class=\"data row2 col3\" >215</td>\n",
       "    </tr>\n",
       "    <tr>\n",
       "      <th id=\"T_ed874_level0_row3\" class=\"row_heading level0 row3\" >3</th>\n",
       "      <td id=\"T_ed874_row3_col0\" class=\"data row3 col0\" >District 4</td>\n",
       "      <td id=\"T_ed874_row3_col1\" class=\"data row3 col1\" >Creative Quarter of Langstrasse</td>\n",
       "      <td id=\"T_ed874_row3_col2\" class=\"data row3 col2\" >The district around Langstrasse was long regarded as a den of iniquity. Nowadays, it is known for its diverse restaurants and never-sleeping nightlife, with bars such as the Olé and the Club Zukunft.</td>\n",
       "      <td id=\"T_ed874_row3_col3\" class=\"data row3 col3\" >199</td>\n",
       "    </tr>\n",
       "    <tr>\n",
       "      <th id=\"T_ed874_level0_row4\" class=\"row_heading level0 row4\" >4</th>\n",
       "      <td id=\"T_ed874_row4_col0\" class=\"data row4 col0\" >District 5</td>\n",
       "      <td id=\"T_ed874_row4_col1\" class=\"data row4 col1\" >Creative Quarter of Zürich-West</td>\n",
       "      <td id=\"T_ed874_row4_col2\" class=\"data row4 col2\" >In the quarter where huge machines once clattered away, now nightclubs, cultural institutions, and universities cluster around the Prime Tower. Converted structures such as the Viadukt and designer stores like the Freitag Tower give the neighborhood its characteristic trendy atmosphere.</td>\n",
       "      <td id=\"T_ed874_row4_col3\" class=\"data row4 col3\" >287</td>\n",
       "    </tr>\n",
       "    <tr>\n",
       "      <th id=\"T_ed874_level0_row5\" class=\"row_heading level0 row5\" >5</th>\n",
       "      <td id=\"T_ed874_row5_col0\" class=\"data row5 col0\" >District 6</td>\n",
       "      <td id=\"T_ed874_row5_col1\" class=\"data row5 col1\" >University Quarter</td>\n",
       "      <td id=\"T_ed874_row5_col2\" class=\"data row5 col2\" >University buildings, Jugendstil villas, green areas, and the Dynamo cultural center characterize Zurich’s District 6. Thanks to its tranquility and closeness to the city center, it is a much sought-after residential area.</td>\n",
       "      <td id=\"T_ed874_row5_col3\" class=\"data row5 col3\" >222</td>\n",
       "    </tr>\n",
       "    <tr>\n",
       "      <th id=\"T_ed874_level0_row6\" class=\"row_heading level0 row6\" >6</th>\n",
       "      <td id=\"T_ed874_row6_col0\" class=\"data row6 col0\" >District 7</td>\n",
       "      <td id=\"T_ed874_row6_col1\" class=\"data row6 col1\" >On the Zürichberg</td>\n",
       "      <td id=\"T_ed874_row6_col2\" class=\"data row6 col2\" >The hillside location, little traffic, and fabulous views mean than living here does not come cheap. Neighbors include Zurich Zoo and the luxury hotel, The Dolder Grand.</td>\n",
       "      <td id=\"T_ed874_row6_col3\" class=\"data row6 col3\" >169</td>\n",
       "    </tr>\n",
       "    <tr>\n",
       "      <th id=\"T_ed874_level0_row7\" class=\"row_heading level0 row7\" >7</th>\n",
       "      <td id=\"T_ed874_row7_col0\" class=\"data row7 col0\" >District 8</td>\n",
       "      <td id=\"T_ed874_row7_col1\" class=\"data row7 col1\" >Right Shore of the Lake</td>\n",
       "      <td id=\"T_ed874_row7_col2\" class=\"data row7 col2\" >This district starts behind the Opera House and stretches as far as the open-air bathing facility, Seebad Tiefenbrunnen. It features boutiques, villas, the Chinawiese recreational area, and the Seebad Utoquai outdoor swimming bath.</td>\n",
       "      <td id=\"T_ed874_row7_col3\" class=\"data row7 col3\" >231</td>\n",
       "    </tr>\n",
       "    <tr>\n",
       "      <th id=\"T_ed874_level0_row8\" class=\"row_heading level0 row8\" >8</th>\n",
       "      <td id=\"T_ed874_row8_col0\" class=\"data row8 col0\" >District 9</td>\n",
       "      <td id=\"T_ed874_row8_col1\" class=\"data row8 col1\" >At the Foot of the Uetliberg</td>\n",
       "      <td id=\"T_ed874_row8_col2\" class=\"data row8 col2\" >For a long time, this district was solely known for the Letzigrund Stadium. In recent years, however, the quarter around Altstetten has become THE place to be, with creative club and gastronomy concepts.</td>\n",
       "      <td id=\"T_ed874_row8_col3\" class=\"data row8 col3\" >203</td>\n",
       "    </tr>\n",
       "    <tr>\n",
       "      <th id=\"T_ed874_level0_row9\" class=\"row_heading level0 row9\" >9</th>\n",
       "      <td id=\"T_ed874_row9_col0\" class=\"data row9 col0\" >District 10</td>\n",
       "      <td id=\"T_ed874_row9_col1\" class=\"data row9 col1\" >Right of the Limmat</td>\n",
       "      <td id=\"T_ed874_row9_col2\" class=\"data row9 col2\" >This district boasts a fantastic location: in summer, everyone meets at the Unterer Letten and Oberer Letten riverside lidos to swim and bask in the sun. In addition, the view over Zurich from the Waid quarter is unbeatable.</td>\n",
       "      <td id=\"T_ed874_row9_col3\" class=\"data row9 col3\" >224</td>\n",
       "    </tr>\n",
       "    <tr>\n",
       "      <th id=\"T_ed874_level0_row10\" class=\"row_heading level0 row10\" >10</th>\n",
       "      <td id=\"T_ed874_row10_col0\" class=\"data row10 col0\" >District 11</td>\n",
       "      <td id=\"T_ed874_row10_col1\" class=\"data row10 col1\" >Zürich Nord</td>\n",
       "      <td id=\"T_ed874_row10_col2\" class=\"data row10 col2\" >The close vicinity to the airport, the Hallenstadion indoor stadium where sports and music events are held, and the MFO-Park are the highlights of the Zurich’s northernmost district, which also offers plenty of space for public works of art.</td>\n",
       "      <td id=\"T_ed874_row10_col3\" class=\"data row10 col3\" >241</td>\n",
       "    </tr>\n",
       "    <tr>\n",
       "      <th id=\"T_ed874_level0_row11\" class=\"row_heading level0 row11\" >11</th>\n",
       "      <td id=\"T_ed874_row11_col0\" class=\"data row11 col0\" >District 12</td>\n",
       "      <td id=\"T_ed874_row11_col1\" class=\"data row11 col1\" >Schwamendingen</td>\n",
       "      <td id=\"T_ed874_row11_col2\" class=\"data row11 col2\" >Schwamendingen, with its many green areas, lies in the north-east of Zurich. This district, which was not incorporated into the City of Zurich until 1934, has retained much of its village character. Its closeness to the Zürichberg makes it particularly popular among walkers, joggers, and children.</td>\n",
       "      <td id=\"T_ed874_row11_col3\" class=\"data row11 col3\" >298</td>\n",
       "    </tr>\n",
       "  </tbody>\n",
       "</table>\n"
      ],
      "text/plain": [
       "<pandas.io.formats.style.Styler at 0x20d9baeab30>"
      ]
     },
     "execution_count": 64,
     "metadata": {},
     "output_type": "execute_result"
    }
   ],
   "source": [
    "# create a styler object and set the wrap parameter to True\n",
    "styler = districts_df.style.set_properties(**{\"white-space\": \"pre-wrap\"})\n",
    "\n",
    "formatted_df = styler.format({\"description\": lambda x: x})\n",
    "formatted_df"
   ]
  },
  {
   "cell_type": "code",
   "execution_count": null,
   "metadata": {},
   "outputs": [],
   "source": []
  }
 ],
 "metadata": {
  "kernelspec": {
   "display_name": ".venv",
   "language": "python",
   "name": "python3"
  },
  "language_info": {
   "codemirror_mode": {
    "name": "ipython",
    "version": 3
   },
   "file_extension": ".py",
   "mimetype": "text/x-python",
   "name": "python",
   "nbconvert_exporter": "python",
   "pygments_lexer": "ipython3",
   "version": "3.10.11"
  }
 },
 "nbformat": 4,
 "nbformat_minor": 2
}
